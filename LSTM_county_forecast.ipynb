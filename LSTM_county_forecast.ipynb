{
 "cells": [
  {
   "cell_type": "code",
   "execution_count": 19,
   "metadata": {},
   "outputs": [
    {
     "name": "stdout",
     "output_type": "stream",
     "text": [
      "Num GPUs Available:  1\n"
     ]
    }
   ],
   "source": [
    "import tensorflow as tf   \n",
    "print(\"Num GPUs Available: \", len(tf.config.list_physical_devices('GPU')))"
   ]
  },
  {
   "cell_type": "code",
   "execution_count": 20,
   "metadata": {},
   "outputs": [],
   "source": [
    "import pandas as pd\n",
    "import matplotlib.pyplot as plt\n",
    "import numpy as np\n",
    "import random \n",
    "import os"
   ]
  },
  {
   "cell_type": "code",
   "execution_count": 21,
   "metadata": {},
   "outputs": [],
   "source": [
    "import tensorflow as tf\n",
    "from sklearn.preprocessing import LabelEncoder\n",
    "from tensorflow.keras.models import Sequential, load_model\n",
    "from tensorflow.keras.layers import LSTM, Dense, Dropout\n",
    "from tensorflow.keras.callbacks import EarlyStopping\n",
    "from tensorflow.keras.optimizers import Adam\n",
    "from tensorflow.keras.regularizers import l2\n",
    "from sklearn.metrics import mean_squared_error, r2_score\n",
    "import keras_tuner as kt"
   ]
  },
  {
   "cell_type": "code",
   "execution_count": 22,
   "metadata": {},
   "outputs": [],
   "source": [
    "SEED = 0\n",
    "\n",
    "def set_seeds(seed=SEED):\n",
    "    os.environ['PYTHONHASHSEED'] = str(seed)\n",
    "    random.seed(seed)\n",
    "    tf.random.set_seed(seed)\n",
    "    np.random.seed(seed)\n",
    "\n",
    "def set_global_determinism(seed=SEED):\n",
    "    set_seeds(seed=seed)\n",
    "\n",
    "    os.environ['TF_DETERMINISTIC_OPS'] = '1'\n",
    "    os.environ['TF_CUDNN_DETERMINISTIC'] = '1'\n",
    "\n",
    "    tf.config.threading.set_inter_op_parallelism_threads(1)\n",
    "    tf.config.threading.set_intra_op_parallelism_threads(1)\n",
    "\n",
    "set_global_determinism(seed=SEED)"
   ]
  },
  {
   "cell_type": "code",
   "execution_count": 23,
   "metadata": {},
   "outputs": [],
   "source": [
    "model = tf.keras.models.load_model(\"models/LSTM_county\")\n"
   ]
  },
  {
   "cell_type": "code",
   "execution_count": 39,
   "metadata": {},
   "outputs": [],
   "source": [
    "model = tf.keras.models.load_model(\"models\\LSTM_county_r\")"
   ]
  },
  {
   "cell_type": "code",
   "execution_count": 40,
   "metadata": {},
   "outputs": [
    {
     "data": {
      "text/plain": [
       "array(['Race/Ethnicity'], dtype=object)"
      ]
     },
     "execution_count": 40,
     "metadata": {},
     "output_type": "execute_result"
    }
   ],
   "source": [
    "df = pd.read_csv(\"datasets\\covid19vaccinesbycountybydemographic.csv\")\n",
    "\n",
    "df = df[df['demographic_category'].str.contains(\"Race/Ethnicity\")]\n",
    "\n",
    "df['demographic_category'].unique()"
   ]
  },
  {
   "cell_type": "code",
   "execution_count": 41,
   "metadata": {},
   "outputs": [
    {
     "data": {
      "text/plain": [
       "array(['American Indian or Alaska Native', 'Asian',\n",
       "       'Black or African American', 'Latino', 'Multiracial',\n",
       "       'Native Hawaiian or Other Pacific Islander', 'Other Race',\n",
       "       'Unknown', 'White'], dtype=object)"
      ]
     },
     "execution_count": 41,
     "metadata": {},
     "output_type": "execute_result"
    }
   ],
   "source": [
    "df['demographic_value'].unique()"
   ]
  },
  {
   "cell_type": "code",
   "execution_count": 42,
   "metadata": {},
   "outputs": [
    {
     "data": {
      "text/plain": [
       "array(['American Indian or Alaska Native', 'Asian',\n",
       "       'Black or African American', 'Latino', 'Multiracial',\n",
       "       'Native Hawaiian or Other Pacific Islander', 'White'], dtype=object)"
      ]
     },
     "execution_count": 42,
     "metadata": {},
     "output_type": "execute_result"
    }
   ],
   "source": [
    "df = df[~df['demographic_value'].str.contains(\"Other Race|Unknown\")]\n",
    "\n",
    "df['demographic_value'].unique()"
   ]
  },
  {
   "cell_type": "code",
   "execution_count": 43,
   "metadata": {},
   "outputs": [],
   "source": [
    "encoder = LabelEncoder()\n",
    "df['county_encoded'] = encoder.fit_transform(df['county'])\n",
    "df['demographic_encoded'] = encoder.fit_transform(df['demographic_value'])"
   ]
  },
  {
   "cell_type": "code",
   "execution_count": 44,
   "metadata": {},
   "outputs": [],
   "source": [
    "df['percent_fully_vaccinated'] = df['cumulative_fully_vaccinated'] / df['est_population']\n",
    "\n",
    "df = df[df['percent_fully_vaccinated'] != 0]\n",
    "df = df[df['percent_fully_vaccinated'].notnull()]\n",
    "df['percent_fully_vaccinated'] = df['percent_fully_vaccinated'].clip(upper=1)"
   ]
  },
  {
   "cell_type": "code",
   "execution_count": 45,
   "metadata": {},
   "outputs": [],
   "source": [
    "df['administered_date'] = pd.to_datetime(df['administered_date'], format = '%Y-%m-%d')\n",
    "\n",
    "df['time_since_start'] = (df['administered_date'] - df['administered_date'].min()).dt.days"
   ]
  },
  {
   "cell_type": "code",
   "execution_count": 46,
   "metadata": {},
   "outputs": [
    {
     "data": {
      "text/html": [
       "<div>\n",
       "<style scoped>\n",
       "    .dataframe tbody tr th:only-of-type {\n",
       "        vertical-align: middle;\n",
       "    }\n",
       "\n",
       "    .dataframe tbody tr th {\n",
       "        vertical-align: top;\n",
       "    }\n",
       "\n",
       "    .dataframe thead th {\n",
       "        text-align: right;\n",
       "    }\n",
       "</style>\n",
       "<table border=\"1\" class=\"dataframe\">\n",
       "  <thead>\n",
       "    <tr style=\"text-align: right;\">\n",
       "      <th></th>\n",
       "      <th>percent_fully_vaccinated</th>\n",
       "      <th>county_encoded</th>\n",
       "      <th>demographic_encoded</th>\n",
       "      <th>time_since_start</th>\n",
       "    </tr>\n",
       "  </thead>\n",
       "  <tbody>\n",
       "    <tr>\n",
       "      <th>24240</th>\n",
       "      <td>1.000000</td>\n",
       "      <td>0</td>\n",
       "      <td>0</td>\n",
       "      <td>1465</td>\n",
       "    </tr>\n",
       "    <tr>\n",
       "      <th>24241</th>\n",
       "      <td>1.000000</td>\n",
       "      <td>0</td>\n",
       "      <td>0</td>\n",
       "      <td>1464</td>\n",
       "    </tr>\n",
       "    <tr>\n",
       "      <th>24242</th>\n",
       "      <td>1.000000</td>\n",
       "      <td>0</td>\n",
       "      <td>0</td>\n",
       "      <td>1463</td>\n",
       "    </tr>\n",
       "    <tr>\n",
       "      <th>24243</th>\n",
       "      <td>1.000000</td>\n",
       "      <td>0</td>\n",
       "      <td>0</td>\n",
       "      <td>1462</td>\n",
       "    </tr>\n",
       "    <tr>\n",
       "      <th>24244</th>\n",
       "      <td>1.000000</td>\n",
       "      <td>0</td>\n",
       "      <td>0</td>\n",
       "      <td>1461</td>\n",
       "    </tr>\n",
       "    <tr>\n",
       "      <th>...</th>\n",
       "      <td>...</td>\n",
       "      <td>...</td>\n",
       "      <td>...</td>\n",
       "      <td>...</td>\n",
       "    </tr>\n",
       "    <tr>\n",
       "      <th>2179837</th>\n",
       "      <td>0.000025</td>\n",
       "      <td>58</td>\n",
       "      <td>6</td>\n",
       "      <td>20</td>\n",
       "    </tr>\n",
       "    <tr>\n",
       "      <th>2179838</th>\n",
       "      <td>0.000025</td>\n",
       "      <td>58</td>\n",
       "      <td>6</td>\n",
       "      <td>19</td>\n",
       "    </tr>\n",
       "    <tr>\n",
       "      <th>2179839</th>\n",
       "      <td>0.000025</td>\n",
       "      <td>58</td>\n",
       "      <td>6</td>\n",
       "      <td>18</td>\n",
       "    </tr>\n",
       "    <tr>\n",
       "      <th>2179840</th>\n",
       "      <td>0.000025</td>\n",
       "      <td>58</td>\n",
       "      <td>6</td>\n",
       "      <td>17</td>\n",
       "    </tr>\n",
       "    <tr>\n",
       "      <th>2179841</th>\n",
       "      <td>0.000025</td>\n",
       "      <td>58</td>\n",
       "      <td>6</td>\n",
       "      <td>16</td>\n",
       "    </tr>\n",
       "  </tbody>\n",
       "</table>\n",
       "<p>522144 rows × 4 columns</p>\n",
       "</div>"
      ],
      "text/plain": [
       "         percent_fully_vaccinated  county_encoded  demographic_encoded  \\\n",
       "24240                    1.000000               0                    0   \n",
       "24241                    1.000000               0                    0   \n",
       "24242                    1.000000               0                    0   \n",
       "24243                    1.000000               0                    0   \n",
       "24244                    1.000000               0                    0   \n",
       "...                           ...             ...                  ...   \n",
       "2179837                  0.000025              58                    6   \n",
       "2179838                  0.000025              58                    6   \n",
       "2179839                  0.000025              58                    6   \n",
       "2179840                  0.000025              58                    6   \n",
       "2179841                  0.000025              58                    6   \n",
       "\n",
       "         time_since_start  \n",
       "24240                1465  \n",
       "24241                1464  \n",
       "24242                1463  \n",
       "24243                1462  \n",
       "24244                1461  \n",
       "...                   ...  \n",
       "2179837                20  \n",
       "2179838                19  \n",
       "2179839                18  \n",
       "2179840                17  \n",
       "2179841                16  \n",
       "\n",
       "[522144 rows x 4 columns]"
      ]
     },
     "execution_count": 46,
     "metadata": {},
     "output_type": "execute_result"
    }
   ],
   "source": [
    "prep_df = df[['percent_fully_vaccinated', 'county_encoded', 'demographic_encoded', 'time_since_start']]\n",
    "\n",
    "prep_df = prep_df[prep_df['percent_fully_vaccinated'] != 0]\n",
    "prep_df = prep_df[prep_df['percent_fully_vaccinated'].notnull()]\n",
    "\n",
    "\n",
    "prep_df"
   ]
  },
  {
   "cell_type": "code",
   "execution_count": 47,
   "metadata": {},
   "outputs": [],
   "source": [
    "time_step = 10\n",
    "\n",
    "grouped_county = prep_df.groupby(['county_encoded', 'demographic_encoded'])\n",
    "\n",
    "X = []\n",
    "y = []\n",
    "\n",
    "for name, group in grouped_county:\n",
    "    values = group[['percent_fully_vaccinated', 'county_encoded', 'demographic_encoded', 'time_since_start']].values\n",
    "\n",
    "    for i in range(len(values) - time_step):\n",
    "        X.append(values[i:i+time_step,:])\n",
    "        y.append(values[i+time_step, 0])\n",
    "\n",
    "X = np.array(X)\n",
    "y = np.array(y)"
   ]
  },
  {
   "cell_type": "code",
   "execution_count": 48,
   "metadata": {},
   "outputs": [
    {
     "data": {
      "text/plain": [
       "[(0, 'Alameda'),\n",
       " (1, 'Alpine'),\n",
       " (2, 'Amador'),\n",
       " (3, 'Butte'),\n",
       " (4, 'Calaveras'),\n",
       " (5, 'Colusa'),\n",
       " (6, 'Contra Costa'),\n",
       " (7, 'Del Norte'),\n",
       " (8, 'El Dorado'),\n",
       " (9, 'Fresno'),\n",
       " (10, 'Glenn'),\n",
       " (11, 'Humboldt'),\n",
       " (12, 'Imperial'),\n",
       " (13, 'Inyo'),\n",
       " (14, 'Kern'),\n",
       " (15, 'Kings'),\n",
       " (16, 'Lake'),\n",
       " (17, 'Lassen'),\n",
       " (18, 'Los Angeles'),\n",
       " (19, 'Madera'),\n",
       " (20, 'Marin'),\n",
       " (21, 'Mariposa'),\n",
       " (22, 'Mendocino'),\n",
       " (23, 'Merced'),\n",
       " (24, 'Modoc'),\n",
       " (25, 'Mono'),\n",
       " (26, 'Monterey'),\n",
       " (27, 'Napa'),\n",
       " (28, 'Nevada'),\n",
       " (29, 'Orange'),\n",
       " (30, 'Placer'),\n",
       " (31, 'Plumas'),\n",
       " (32, 'Riverside'),\n",
       " (33, 'Sacramento'),\n",
       " (34, 'San Benito'),\n",
       " (35, 'San Bernardino'),\n",
       " (36, 'San Diego'),\n",
       " (37, 'San Francisco'),\n",
       " (38, 'San Joaquin'),\n",
       " (39, 'San Luis Obispo'),\n",
       " (40, 'San Mateo'),\n",
       " (41, 'Santa Barbara'),\n",
       " (42, 'Santa Clara'),\n",
       " (43, 'Santa Cruz'),\n",
       " (44, 'Shasta'),\n",
       " (45, 'Sierra'),\n",
       " (46, 'Siskiyou'),\n",
       " (47, 'Solano'),\n",
       " (48, 'Sonoma'),\n",
       " (49, 'Stanislaus'),\n",
       " (50, 'Statewide'),\n",
       " (51, 'Sutter'),\n",
       " (52, 'Tehama'),\n",
       " (53, 'Trinity'),\n",
       " (54, 'Tulare'),\n",
       " (55, 'Tuolumne'),\n",
       " (56, 'Ventura'),\n",
       " (57, 'Yolo'),\n",
       " (58, 'Yuba')]"
      ]
     },
     "execution_count": 48,
     "metadata": {},
     "output_type": "execute_result"
    }
   ],
   "source": [
    "encoded_county = list(zip(df['county_encoded'].unique(), df['county'].unique()))\n",
    "\n",
    "sorted(encoded_county, key=lambda x: x[0])"
   ]
  },
  {
   "cell_type": "code",
   "execution_count": 49,
   "metadata": {},
   "outputs": [
    {
     "data": {
      "text/plain": [
       "[('American Indian or Alaska Native', 0),\n",
       " ('Asian', 1),\n",
       " ('Black or African American', 2),\n",
       " ('Latino', 3),\n",
       " ('Multiracial', 4),\n",
       " ('Native Hawaiian or Other Pacific Islander', 5),\n",
       " ('White', 6)]"
      ]
     },
     "execution_count": 49,
     "metadata": {},
     "output_type": "execute_result"
    }
   ],
   "source": [
    "encoded_ethnicity = list(zip(df['demographic_value'].unique(), df['demographic_encoded'].unique()))\n",
    "\n",
    "sorted(encoded_ethnicity, key=lambda x: x[0])"
   ]
  },
  {
   "cell_type": "code",
   "execution_count": 52,
   "metadata": {},
   "outputs": [],
   "source": [
    "def forecast(data, prep_df, county_encode, ethnicity_encode, forecast_days, model): \n",
    "    df = data[(data['county_encoded'] == county_encode) & (data['demographic_encoded'] == ethnicity_encode)]\n",
    "    df = df.reset_index(drop=True)\n",
    "\n",
    "    prep_df = prep_df[(prep_df['county_encoded'] == county_encode) & (prep_df['demographic_encoded'] == ethnicity_encode)]\n",
    "    prep_df = prep_df.reset_index(drop = True)\n",
    "    prep_df = prep_df[:10].iloc[::-1]\n",
    "\n",
    "    forecast_array = prep_df.values\n",
    "    forecast_array = forecast_array.reshape((1,10,4))\n",
    "    \n",
    "    predictions = []\n",
    "\n",
    "    for i in range(forecast_days):\n",
    "        next_prediction = model.predict(forecast_array)\n",
    "        next_prediction = next_prediction.reshape((1,1,1))\n",
    "\n",
    "        increment_day = forecast_array[0, -1, 3] + 1\n",
    "\n",
    "        next_input = np.array([[[next_prediction[0,0,0], forecast_array[0,-1,1], forecast_array[0,-1,2], increment_day]]])\n",
    "\n",
    "        forecast_array = np.append(forecast_array[:,1:,:], next_input, axis = 1)\n",
    "\n",
    "        predictions.append(next_prediction[0,0,0])\n",
    "\n",
    "    predictions = np.array(predictions)\n",
    "\n",
    "    last_date = df['administered_date'].max()\n",
    "\n",
    "    next_month = pd.date_range(start = last_date, periods = forecast_days+1)\n",
    "\n",
    "    next_month = next_month[1:]\n",
    "\n",
    "    # index = df[df['administered_date'] == \"2022-01-01\"].index\n",
    "    index = df['administered_date'].idxmin()\n",
    "\n",
    "    \n",
    "    past_df = df[:index]\n",
    "\n",
    "    past_df = past_df[['administered_date', 'percent_fully_vaccinated']]\n",
    "\n",
    "    predictions_df = pd.DataFrame({'administered_date': next_month,\n",
    "                                  'percent_fully_vaccinated': predictions})\n",
    "    \n",
    "\n",
    "\n",
    "    plt.figure(figsize=(14, 7))\n",
    "    plt.plot(past_df['administered_date'], past_df['percent_fully_vaccinated'], color = 'r', marker = 'o')\n",
    "    plt.plot(predictions_df['administered_date'], predictions_df['percent_fully_vaccinated'], color = 'b', marker = 'o')\n",
    "    plt.xticks(rotation = 45)\n",
    "    plt.grid(True)\n",
    "    plt.legend()\n",
    "    plt.tight_layout()\n",
    "    plt.show()\n",
    "\n",
    "\n",
    "    "
   ]
  },
  {
   "cell_type": "code",
   "execution_count": 53,
   "metadata": {},
   "outputs": [
    {
     "name": "stdout",
     "output_type": "stream",
     "text": [
      "1/1 [==============================] - 0s 19ms/step\n",
      "1/1 [==============================] - 0s 10ms/step\n",
      "1/1 [==============================] - 0s 17ms/step\n",
      "1/1 [==============================] - 0s 20ms/step\n",
      "1/1 [==============================] - 0s 17ms/step\n",
      "1/1 [==============================] - 0s 17ms/step\n",
      "1/1 [==============================] - 0s 10ms/step\n",
      "1/1 [==============================] - 0s 14ms/step\n",
      "1/1 [==============================] - 0s 13ms/step\n",
      "1/1 [==============================] - 0s 20ms/step\n",
      "1/1 [==============================] - 0s 15ms/step\n",
      "1/1 [==============================] - 0s 16ms/step\n",
      "1/1 [==============================] - 0s 17ms/step\n",
      "1/1 [==============================] - 0s 18ms/step\n",
      "1/1 [==============================] - 0s 20ms/step\n",
      "1/1 [==============================] - 0s 20ms/step\n",
      "1/1 [==============================] - 0s 17ms/step\n",
      "1/1 [==============================] - 0s 11ms/step\n",
      "1/1 [==============================] - 0s 27ms/step\n",
      "1/1 [==============================] - 0s 18ms/step\n",
      "1/1 [==============================] - 0s 12ms/step\n",
      "1/1 [==============================] - 0s 11ms/step\n",
      "1/1 [==============================] - 0s 29ms/step\n",
      "1/1 [==============================] - 0s 20ms/step\n",
      "1/1 [==============================] - 0s 17ms/step\n",
      "1/1 [==============================] - 0s 15ms/step\n",
      "1/1 [==============================] - 0s 11ms/step\n",
      "1/1 [==============================] - 0s 21ms/step\n",
      "1/1 [==============================] - 0s 12ms/step\n",
      "1/1 [==============================] - 0s 17ms/step\n",
      "1/1 [==============================] - 0s 19ms/step\n",
      "1/1 [==============================] - 0s 10ms/step\n",
      "1/1 [==============================] - 0s 23ms/step\n",
      "1/1 [==============================] - 0s 11ms/step\n",
      "1/1 [==============================] - 0s 16ms/step\n",
      "1/1 [==============================] - 0s 16ms/step\n",
      "1/1 [==============================] - 0s 16ms/step\n",
      "1/1 [==============================] - 0s 19ms/step\n",
      "1/1 [==============================] - 0s 19ms/step\n",
      "1/1 [==============================] - 0s 10ms/step\n",
      "1/1 [==============================] - 0s 22ms/step\n",
      "1/1 [==============================] - 0s 18ms/step\n",
      "1/1 [==============================] - 0s 17ms/step\n",
      "1/1 [==============================] - 0s 11ms/step\n",
      "1/1 [==============================] - 0s 14ms/step\n",
      "1/1 [==============================] - 0s 17ms/step\n",
      "1/1 [==============================] - 0s 11ms/step\n",
      "1/1 [==============================] - 0s 15ms/step\n",
      "1/1 [==============================] - 0s 20ms/step\n",
      "1/1 [==============================] - 0s 89ms/step\n",
      "1/1 [==============================] - 0s 12ms/step\n",
      "1/1 [==============================] - 0s 19ms/step\n",
      "1/1 [==============================] - 0s 16ms/step\n",
      "1/1 [==============================] - 0s 13ms/step\n",
      "1/1 [==============================] - 0s 19ms/step\n",
      "1/1 [==============================] - 0s 26ms/step\n",
      "1/1 [==============================] - 0s 20ms/step\n",
      "1/1 [==============================] - 0s 15ms/step\n",
      "1/1 [==============================] - 0s 12ms/step\n",
      "1/1 [==============================] - 0s 11ms/step\n"
     ]
    },
    {
     "name": "stderr",
     "output_type": "stream",
     "text": [
      "No artists with labels found to put in legend.  Note that artists whose label start with an underscore are ignored when legend() is called with no argument.\n"
     ]
    },
    {
     "data": {
      "image/png": "[encoded data removed]",
      "text/plain": [
       "<Figure size 1400x700 with 1 Axes>"
      ]
     },
     "metadata": {},
     "output_type": "display_data"
    }
   ],
   "source": [
    "#Santa Clara and Asian - 30 days forecast\n",
    "\n",
    "forecast(df,prep_df,  42, 1, 60, model)"
   ]
  },
  {
   "cell_type": "code",
   "execution_count": null,
   "metadata": {},
   "outputs": [],
   "source": []
  }
 ],
 "metadata": {
  "kernelspec": {
   "display_name": "tensorflowgpu",
   "language": "python",
   "name": "python3"
  },
  "language_info": {
   "codemirror_mode": {
    "name": "ipython",
    "version": 3
   },
   "file_extension": ".py",
   "mimetype": "text/x-python",
   "name": "python",
   "nbconvert_exporter": "python",
   "pygments_lexer": "ipython3",
   "version": "3.10.14"
  }
 },
 "nbformat": 4,
 "nbformat_minor": 2
}
