{
 "cells": [
  {
   "cell_type": "code",
   "execution_count": 45,
   "metadata": {},
   "outputs": [
    {
     "name": "stdout",
     "output_type": "stream",
     "text": [
      "Num GPUs Available:  1\n"
     ]
    }
   ],
   "source": [
    "import tensorflow as tf   \n",
    "print(\"Num GPUs Available: \", len(tf.config.list_physical_devices('GPU')))"
   ]
  },
  {
   "cell_type": "code",
   "execution_count": 46,
   "metadata": {},
   "outputs": [],
   "source": [
    "import pandas as pd\n",
    "import matplotlib.pyplot as plt\n",
    "import numpy as np\n",
    "import random "
   ]
  },
  {
   "cell_type": "code",
   "execution_count": 47,
   "metadata": {},
   "outputs": [],
   "source": [
    "from sklearn.preprocessing import LabelEncoder\n",
    "from tensorflow.keras.models import Sequential, load_model\n",
    "from tensorflow.keras.layers import LSTM, Dense\n",
    "from tensorflow.keras.optimizers import Adam"
   ]
  },
  {
   "cell_type": "code",
   "execution_count": 48,
   "metadata": {},
   "outputs": [
    {
     "name": "stdout",
     "output_type": "stream",
     "text": [
      "c:\\Users\\dangn\\anaconda3\\envs\\tensorflowgpu\\python.exe\n"
     ]
    }
   ],
   "source": [
    "import sys\n",
    "print(sys.executable)"
   ]
  },
  {
   "cell_type": "code",
   "execution_count": 49,
   "metadata": {},
   "outputs": [
    {
     "name": "stdout",
     "output_type": "stream",
     "text": [
      "Num GPUs Available:  1\n"
     ]
    }
   ],
   "source": [
    "import tensorflow as tf   \n",
    "print(\"Num GPUs Available: \", len(tf.config.list_physical_devices('GPU')))"
   ]
  },
  {
   "cell_type": "code",
   "execution_count": 50,
   "metadata": {},
   "outputs": [],
   "source": [
    "df = pd.read_csv(\"datasets\\covid19vaccinesbycountybydemographic.csv\")"
   ]
  },
  {
   "cell_type": "code",
   "execution_count": 51,
   "metadata": {},
   "outputs": [
    {
     "data": {
      "text/plain": [
       "array(['Race/Ethnicity'], dtype=object)"
      ]
     },
     "execution_count": 51,
     "metadata": {},
     "output_type": "execute_result"
    }
   ],
   "source": [
    "df = df[df['demographic_category'].str.contains(\"Race/Ethnicity\")]\n",
    "\n",
    "df['demographic_category'].unique()"
   ]
  },
  {
   "cell_type": "code",
   "execution_count": 52,
   "metadata": {},
   "outputs": [
    {
     "data": {
      "text/plain": [
       "array(['American Indian or Alaska Native', 'Asian',\n",
       "       'Black or African American', 'Latino', 'Multiracial',\n",
       "       'Native Hawaiian or Other Pacific Islander', 'Other Race',\n",
       "       'Unknown', 'White'], dtype=object)"
      ]
     },
     "execution_count": 52,
     "metadata": {},
     "output_type": "execute_result"
    }
   ],
   "source": [
    "df['demographic_value'].unique()"
   ]
  },
  {
   "cell_type": "code",
   "execution_count": 53,
   "metadata": {},
   "outputs": [
    {
     "data": {
      "text/plain": [
       "array(['American Indian or Alaska Native', 'Asian',\n",
       "       'Black or African American', 'Latino', 'Multiracial',\n",
       "       'Native Hawaiian or Other Pacific Islander', 'White'], dtype=object)"
      ]
     },
     "execution_count": 53,
     "metadata": {},
     "output_type": "execute_result"
    }
   ],
   "source": [
    "df = df[~df['demographic_value'].str.contains(\"Other Race|Unknown\")]\n",
    "\n",
    "df['demographic_value'].unique()"
   ]
  },
  {
   "cell_type": "code",
   "execution_count": 54,
   "metadata": {},
   "outputs": [
    {
     "data": {
      "text/plain": [
       "array(['Alameda', 'Alpine', 'Amador', 'Butte', 'Calaveras', 'Colusa',\n",
       "       'Contra Costa', 'Del Norte', 'El Dorado', 'Fresno', 'Glenn',\n",
       "       'Humboldt', 'Imperial', 'Inyo', 'Kern', 'Kings', 'Lake', 'Lassen',\n",
       "       'Los Angeles', 'Madera', 'Marin', 'Mariposa', 'Mendocino',\n",
       "       'Merced', 'Modoc', 'Mono', 'Monterey', 'Napa', 'Nevada', 'Orange',\n",
       "       'Placer', 'Plumas', 'Riverside', 'Sacramento', 'San Benito',\n",
       "       'San Bernardino', 'San Diego', 'San Francisco', 'San Joaquin',\n",
       "       'San Luis Obispo', 'San Mateo', 'Santa Barbara', 'Santa Clara',\n",
       "       'Santa Cruz', 'Shasta', 'Sierra', 'Siskiyou', 'Solano', 'Sonoma',\n",
       "       'Stanislaus', 'Statewide', 'Sutter', 'Tehama', 'Trinity', 'Tulare',\n",
       "       'Tuolumne', 'Ventura', 'Yolo', 'Yuba'], dtype=object)"
      ]
     },
     "execution_count": 54,
     "metadata": {},
     "output_type": "execute_result"
    }
   ],
   "source": [
    "df['county'].unique()"
   ]
  },
  {
   "cell_type": "code",
   "execution_count": 55,
   "metadata": {},
   "outputs": [],
   "source": [
    "encoder = LabelEncoder()\n",
    "df['county_encoded'] = encoder.fit_transform(df['county'])\n",
    "df['demographic_encoded'] = encoder.fit_transform(df['demographic_value'])"
   ]
  },
  {
   "cell_type": "code",
   "execution_count": 56,
   "metadata": {},
   "outputs": [],
   "source": [
    "df['percent_fully_vaccinated'] = df['cumulative_fully_vaccinated'] / df['est_population']\n",
    "\n",
    "df = df[df['percent_fully_vaccinated'] != 0]\n",
    "df = df[df['percent_fully_vaccinated'].notnull()]\n",
    "df['percent_fully_vaccinated'] = df['percent_fully_vaccinated'].clip(upper=1)"
   ]
  },
  {
   "cell_type": "code",
   "execution_count": 57,
   "metadata": {},
   "outputs": [],
   "source": [
    "df['administered_date'] = pd.to_datetime(df['administered_date'], format = '%Y-%m-%d')\n",
    "\n",
    "df['time_since_start'] = (df['administered_date'] - df['administered_date'].min()).dt.days"
   ]
  },
  {
   "cell_type": "code",
   "execution_count": 58,
   "metadata": {},
   "outputs": [
    {
     "data": {
      "text/html": [
       "<div>\n",
       "<style scoped>\n",
       "    .dataframe tbody tr th:only-of-type {\n",
       "        vertical-align: middle;\n",
       "    }\n",
       "\n",
       "    .dataframe tbody tr th {\n",
       "        vertical-align: top;\n",
       "    }\n",
       "\n",
       "    .dataframe thead th {\n",
       "        text-align: right;\n",
       "    }\n",
       "</style>\n",
       "<table border=\"1\" class=\"dataframe\">\n",
       "  <thead>\n",
       "    <tr style=\"text-align: right;\">\n",
       "      <th></th>\n",
       "      <th>percent_fully_vaccinated</th>\n",
       "      <th>county_encoded</th>\n",
       "      <th>demographic_encoded</th>\n",
       "      <th>time_since_start</th>\n",
       "    </tr>\n",
       "  </thead>\n",
       "  <tbody>\n",
       "    <tr>\n",
       "      <th>24240</th>\n",
       "      <td>1.000000</td>\n",
       "      <td>0</td>\n",
       "      <td>0</td>\n",
       "      <td>1465</td>\n",
       "    </tr>\n",
       "    <tr>\n",
       "      <th>24241</th>\n",
       "      <td>1.000000</td>\n",
       "      <td>0</td>\n",
       "      <td>0</td>\n",
       "      <td>1464</td>\n",
       "    </tr>\n",
       "    <tr>\n",
       "      <th>24242</th>\n",
       "      <td>1.000000</td>\n",
       "      <td>0</td>\n",
       "      <td>0</td>\n",
       "      <td>1463</td>\n",
       "    </tr>\n",
       "    <tr>\n",
       "      <th>24243</th>\n",
       "      <td>1.000000</td>\n",
       "      <td>0</td>\n",
       "      <td>0</td>\n",
       "      <td>1462</td>\n",
       "    </tr>\n",
       "    <tr>\n",
       "      <th>24244</th>\n",
       "      <td>1.000000</td>\n",
       "      <td>0</td>\n",
       "      <td>0</td>\n",
       "      <td>1461</td>\n",
       "    </tr>\n",
       "    <tr>\n",
       "      <th>...</th>\n",
       "      <td>...</td>\n",
       "      <td>...</td>\n",
       "      <td>...</td>\n",
       "      <td>...</td>\n",
       "    </tr>\n",
       "    <tr>\n",
       "      <th>2179837</th>\n",
       "      <td>0.000025</td>\n",
       "      <td>58</td>\n",
       "      <td>6</td>\n",
       "      <td>20</td>\n",
       "    </tr>\n",
       "    <tr>\n",
       "      <th>2179838</th>\n",
       "      <td>0.000025</td>\n",
       "      <td>58</td>\n",
       "      <td>6</td>\n",
       "      <td>19</td>\n",
       "    </tr>\n",
       "    <tr>\n",
       "      <th>2179839</th>\n",
       "      <td>0.000025</td>\n",
       "      <td>58</td>\n",
       "      <td>6</td>\n",
       "      <td>18</td>\n",
       "    </tr>\n",
       "    <tr>\n",
       "      <th>2179840</th>\n",
       "      <td>0.000025</td>\n",
       "      <td>58</td>\n",
       "      <td>6</td>\n",
       "      <td>17</td>\n",
       "    </tr>\n",
       "    <tr>\n",
       "      <th>2179841</th>\n",
       "      <td>0.000025</td>\n",
       "      <td>58</td>\n",
       "      <td>6</td>\n",
       "      <td>16</td>\n",
       "    </tr>\n",
       "  </tbody>\n",
       "</table>\n",
       "<p>522144 rows × 4 columns</p>\n",
       "</div>"
      ],
      "text/plain": [
       "         percent_fully_vaccinated  county_encoded  demographic_encoded  \\\n",
       "24240                    1.000000               0                    0   \n",
       "24241                    1.000000               0                    0   \n",
       "24242                    1.000000               0                    0   \n",
       "24243                    1.000000               0                    0   \n",
       "24244                    1.000000               0                    0   \n",
       "...                           ...             ...                  ...   \n",
       "2179837                  0.000025              58                    6   \n",
       "2179838                  0.000025              58                    6   \n",
       "2179839                  0.000025              58                    6   \n",
       "2179840                  0.000025              58                    6   \n",
       "2179841                  0.000025              58                    6   \n",
       "\n",
       "         time_since_start  \n",
       "24240                1465  \n",
       "24241                1464  \n",
       "24242                1463  \n",
       "24243                1462  \n",
       "24244                1461  \n",
       "...                   ...  \n",
       "2179837                20  \n",
       "2179838                19  \n",
       "2179839                18  \n",
       "2179840                17  \n",
       "2179841                16  \n",
       "\n",
       "[522144 rows x 4 columns]"
      ]
     },
     "execution_count": 58,
     "metadata": {},
     "output_type": "execute_result"
    }
   ],
   "source": [
    "\n",
    "prep_df = df[['percent_fully_vaccinated', 'county_encoded', 'demographic_encoded', 'time_since_start']]\n",
    "\n",
    "prep_df"
   ]
  },
  {
   "cell_type": "code",
   "execution_count": 59,
   "metadata": {},
   "outputs": [
    {
     "data": {
      "text/html": [
       "<div>\n",
       "<style scoped>\n",
       "    .dataframe tbody tr th:only-of-type {\n",
       "        vertical-align: middle;\n",
       "    }\n",
       "\n",
       "    .dataframe tbody tr th {\n",
       "        vertical-align: top;\n",
       "    }\n",
       "\n",
       "    .dataframe thead th {\n",
       "        text-align: right;\n",
       "    }\n",
       "</style>\n",
       "<table border=\"1\" class=\"dataframe\">\n",
       "  <thead>\n",
       "    <tr style=\"text-align: right;\">\n",
       "      <th></th>\n",
       "      <th>percent_fully_vaccinated</th>\n",
       "      <th>county_encoded</th>\n",
       "      <th>demographic_encoded</th>\n",
       "      <th>time_since_start</th>\n",
       "    </tr>\n",
       "  </thead>\n",
       "  <tbody>\n",
       "    <tr>\n",
       "      <th>24240</th>\n",
       "      <td>1.000000</td>\n",
       "      <td>0</td>\n",
       "      <td>0</td>\n",
       "      <td>1465</td>\n",
       "    </tr>\n",
       "    <tr>\n",
       "      <th>24241</th>\n",
       "      <td>1.000000</td>\n",
       "      <td>0</td>\n",
       "      <td>0</td>\n",
       "      <td>1464</td>\n",
       "    </tr>\n",
       "    <tr>\n",
       "      <th>24242</th>\n",
       "      <td>1.000000</td>\n",
       "      <td>0</td>\n",
       "      <td>0</td>\n",
       "      <td>1463</td>\n",
       "    </tr>\n",
       "    <tr>\n",
       "      <th>24243</th>\n",
       "      <td>1.000000</td>\n",
       "      <td>0</td>\n",
       "      <td>0</td>\n",
       "      <td>1462</td>\n",
       "    </tr>\n",
       "    <tr>\n",
       "      <th>24244</th>\n",
       "      <td>1.000000</td>\n",
       "      <td>0</td>\n",
       "      <td>0</td>\n",
       "      <td>1461</td>\n",
       "    </tr>\n",
       "    <tr>\n",
       "      <th>...</th>\n",
       "      <td>...</td>\n",
       "      <td>...</td>\n",
       "      <td>...</td>\n",
       "      <td>...</td>\n",
       "    </tr>\n",
       "    <tr>\n",
       "      <th>2179837</th>\n",
       "      <td>0.000025</td>\n",
       "      <td>58</td>\n",
       "      <td>6</td>\n",
       "      <td>20</td>\n",
       "    </tr>\n",
       "    <tr>\n",
       "      <th>2179838</th>\n",
       "      <td>0.000025</td>\n",
       "      <td>58</td>\n",
       "      <td>6</td>\n",
       "      <td>19</td>\n",
       "    </tr>\n",
       "    <tr>\n",
       "      <th>2179839</th>\n",
       "      <td>0.000025</td>\n",
       "      <td>58</td>\n",
       "      <td>6</td>\n",
       "      <td>18</td>\n",
       "    </tr>\n",
       "    <tr>\n",
       "      <th>2179840</th>\n",
       "      <td>0.000025</td>\n",
       "      <td>58</td>\n",
       "      <td>6</td>\n",
       "      <td>17</td>\n",
       "    </tr>\n",
       "    <tr>\n",
       "      <th>2179841</th>\n",
       "      <td>0.000025</td>\n",
       "      <td>58</td>\n",
       "      <td>6</td>\n",
       "      <td>16</td>\n",
       "    </tr>\n",
       "  </tbody>\n",
       "</table>\n",
       "<p>522144 rows × 4 columns</p>\n",
       "</div>"
      ],
      "text/plain": [
       "         percent_fully_vaccinated  county_encoded  demographic_encoded  \\\n",
       "24240                    1.000000               0                    0   \n",
       "24241                    1.000000               0                    0   \n",
       "24242                    1.000000               0                    0   \n",
       "24243                    1.000000               0                    0   \n",
       "24244                    1.000000               0                    0   \n",
       "...                           ...             ...                  ...   \n",
       "2179837                  0.000025              58                    6   \n",
       "2179838                  0.000025              58                    6   \n",
       "2179839                  0.000025              58                    6   \n",
       "2179840                  0.000025              58                    6   \n",
       "2179841                  0.000025              58                    6   \n",
       "\n",
       "         time_since_start  \n",
       "24240                1465  \n",
       "24241                1464  \n",
       "24242                1463  \n",
       "24243                1462  \n",
       "24244                1461  \n",
       "...                   ...  \n",
       "2179837                20  \n",
       "2179838                19  \n",
       "2179839                18  \n",
       "2179840                17  \n",
       "2179841                16  \n",
       "\n",
       "[522144 rows x 4 columns]"
      ]
     },
     "execution_count": 59,
     "metadata": {},
     "output_type": "execute_result"
    }
   ],
   "source": [
    "prep_df = prep_df[prep_df['percent_fully_vaccinated'] != 0]\n",
    "prep_df = prep_df[prep_df['percent_fully_vaccinated'].notnull()]\n",
    "\n",
    "\n",
    "prep_df"
   ]
  },
  {
   "cell_type": "code",
   "execution_count": 60,
   "metadata": {},
   "outputs": [],
   "source": [
    "time_step = 10\n",
    "\n",
    "\n",
    "grouped_county = prep_df.groupby(['county_encoded', 'demographic_encoded'])\n"
   ]
  },
  {
   "cell_type": "code",
   "execution_count": 61,
   "metadata": {},
   "outputs": [],
   "source": [
    "X = []\n",
    "y = []\n",
    "\n",
    "for name, group in grouped_county:\n",
    "    values = group[['percent_fully_vaccinated', 'county_encoded', 'demographic_encoded', 'time_since_start']].values\n",
    "\n",
    "    for i in range(len(values) - time_step):\n",
    "        X.append(values[i:i+time_step,:])\n",
    "        y.append(values[i+time_step, 0])\n",
    "\n",
    "X = np.array(X)\n",
    "y = np.array(y)"
   ]
  },
  {
   "cell_type": "code",
   "execution_count": 62,
   "metadata": {},
   "outputs": [
    {
     "data": {
      "text/plain": [
       "(518314, 10, 4)"
      ]
     },
     "execution_count": 62,
     "metadata": {},
     "output_type": "execute_result"
    }
   ],
   "source": [
    "X.shape"
   ]
  },
  {
   "cell_type": "code",
   "execution_count": 63,
   "metadata": {},
   "outputs": [
    {
     "data": {
      "text/plain": [
       "array([[[   1.        ,    0.        ,    0.        , 1465.        ],\n",
       "        [   1.        ,    0.        ,    0.        , 1464.        ],\n",
       "        [   1.        ,    0.        ,    0.        , 1463.        ],\n",
       "        ...,\n",
       "        [   1.        ,    0.        ,    0.        , 1458.        ],\n",
       "        [   1.        ,    0.        ,    0.        , 1457.        ],\n",
       "        [   1.        ,    0.        ,    0.        , 1456.        ]],\n",
       "\n",
       "       [[   1.        ,    0.        ,    0.        , 1464.        ],\n",
       "        [   1.        ,    0.        ,    0.        , 1463.        ],\n",
       "        [   1.        ,    0.        ,    0.        , 1462.        ],\n",
       "        ...,\n",
       "        [   1.        ,    0.        ,    0.        , 1457.        ],\n",
       "        [   1.        ,    0.        ,    0.        , 1456.        ],\n",
       "        [   1.        ,    0.        ,    0.        , 1455.        ]],\n",
       "\n",
       "       [[   1.        ,    0.        ,    0.        , 1463.        ],\n",
       "        [   1.        ,    0.        ,    0.        , 1462.        ],\n",
       "        [   1.        ,    0.        ,    0.        , 1461.        ],\n",
       "        ...,\n",
       "        [   1.        ,    0.        ,    0.        , 1456.        ],\n",
       "        [   1.        ,    0.        ,    0.        , 1455.        ],\n",
       "        [   1.        ,    0.        ,    0.        , 1454.        ]],\n",
       "\n",
       "       ...,\n",
       "\n",
       "       [[   0.00002479,   58.        ,    6.        ,   28.        ],\n",
       "        [   0.00002479,   58.        ,    6.        ,   27.        ],\n",
       "        [   0.00002479,   58.        ,    6.        ,   26.        ],\n",
       "        ...,\n",
       "        [   0.00002479,   58.        ,    6.        ,   21.        ],\n",
       "        [   0.00002479,   58.        ,    6.        ,   20.        ],\n",
       "        [   0.00002479,   58.        ,    6.        ,   19.        ]],\n",
       "\n",
       "       [[   0.00002479,   58.        ,    6.        ,   27.        ],\n",
       "        [   0.00002479,   58.        ,    6.        ,   26.        ],\n",
       "        [   0.00002479,   58.        ,    6.        ,   25.        ],\n",
       "        ...,\n",
       "        [   0.00002479,   58.        ,    6.        ,   20.        ],\n",
       "        [   0.00002479,   58.        ,    6.        ,   19.        ],\n",
       "        [   0.00002479,   58.        ,    6.        ,   18.        ]],\n",
       "\n",
       "       [[   0.00002479,   58.        ,    6.        ,   26.        ],\n",
       "        [   0.00002479,   58.        ,    6.        ,   25.        ],\n",
       "        [   0.00002479,   58.        ,    6.        ,   24.        ],\n",
       "        ...,\n",
       "        [   0.00002479,   58.        ,    6.        ,   19.        ],\n",
       "        [   0.00002479,   58.        ,    6.        ,   18.        ],\n",
       "        [   0.00002479,   58.        ,    6.        ,   17.        ]]])"
      ]
     },
     "execution_count": 63,
     "metadata": {},
     "output_type": "execute_result"
    }
   ],
   "source": [
    "np.set_printoptions(suppress=True)\n",
    "\n",
    "X"
   ]
  },
  {
   "cell_type": "code",
   "execution_count": 64,
   "metadata": {},
   "outputs": [
    {
     "name": "stdout",
     "output_type": "stream",
     "text": [
      "WARNING:tensorflow:Layer lstm_2 will not use cuDNN kernels since it doesn't meet the criteria. It will use a generic GPU kernel as fallback when running on GPU.\n",
      "Model: \"sequential_2\"\n",
      "_________________________________________________________________\n",
      " Layer (type)                Output Shape              Param #   \n",
      "=================================================================\n",
      " lstm_2 (LSTM)               (None, 20)                2000      \n",
      "                                                                 \n",
      " dense_4 (Dense)             (None, 10)                210       \n",
      "                                                                 \n",
      " dense_5 (Dense)             (None, 1)                 11        \n",
      "                                                                 \n",
      "=================================================================\n",
      "Total params: 2,221\n",
      "Trainable params: 2,221\n",
      "Non-trainable params: 0\n",
      "_________________________________________________________________\n"
     ]
    }
   ],
   "source": [
    "model = Sequential()\n",
    "\n",
    "model.add(LSTM(20, activation = \"relu\", input_shape = (X.shape[1], X.shape[2])))\n",
    "model.add(Dense(10))\n",
    "model.add(Dense(1))\n",
    "model.compile(optimizer=Adam(learning_rate=0.001), loss='mse')\n",
    "model.summary()"
   ]
  },
  {
   "cell_type": "code",
   "execution_count": 65,
   "metadata": {},
   "outputs": [
    {
     "name": "stdout",
     "output_type": "stream",
     "text": [
      "Epoch 1/100\n",
      "12958/12958 [==============================] - 227s 17ms/step - loss: 4.8557 - val_loss: 7.1067e-04\n",
      "Epoch 2/100\n",
      "12958/12958 [==============================] - 218s 17ms/step - loss: 3.6878e-04 - val_loss: 4.0636e-05\n",
      "Epoch 3/100\n",
      "12958/12958 [==============================] - 234s 18ms/step - loss: 2.5543e-04 - val_loss: 5.1429e-05\n",
      "Epoch 4/100\n",
      "12958/12958 [==============================] - 231s 18ms/step - loss: 2.0840e-04 - val_loss: 3.0023e-04\n",
      "Epoch 5/100\n",
      "12958/12958 [==============================] - 231s 18ms/step - loss: 1.6571e-04 - val_loss: 1.9668e-04\n",
      "Epoch 6/100\n",
      "12958/12958 [==============================] - 231s 18ms/step - loss: 1.4878e-04 - val_loss: 2.4209e-05\n",
      "Epoch 7/100\n",
      "12958/12958 [==============================] - 300s 23ms/step - loss: 1.7676e-04 - val_loss: 4.2434e-04\n",
      "Epoch 8/100\n",
      "12958/12958 [==============================] - 310s 24ms/step - loss: 2.9347e-04 - val_loss: 2.8491e-04\n",
      "Epoch 9/100\n",
      "12958/12958 [==============================] - 305s 23ms/step - loss: 1.9888e-04 - val_loss: 3.9794e-05\n",
      "Epoch 10/100\n",
      "12958/12958 [==============================] - 309s 24ms/step - loss: 0.0055 - val_loss: 0.0012\n",
      "Epoch 11/100\n",
      "12958/12958 [==============================] - 306s 24ms/step - loss: 1.7241e-04 - val_loss: 1.8266e-05\n",
      "Epoch 12/100\n",
      "12958/12958 [==============================] - 301s 23ms/step - loss: 4.5057e-04 - val_loss: 3.1080e-04\n",
      "Epoch 13/100\n",
      "12958/12958 [==============================] - 301s 23ms/step - loss: 1.7044e-04 - val_loss: 5.5589e-05\n",
      "Epoch 14/100\n",
      "12958/12958 [==============================] - 305s 24ms/step - loss: 1.3849e-04 - val_loss: 1.9634e-05\n",
      "Epoch 15/100\n",
      "12958/12958 [==============================] - 314s 24ms/step - loss: 1.2214e-04 - val_loss: 7.8474e-05\n",
      "Epoch 16/100\n",
      "12958/12958 [==============================] - 311s 24ms/step - loss: 2.5389e-04 - val_loss: 4.8625e-05\n",
      "Epoch 17/100\n",
      "12958/12958 [==============================] - 310s 24ms/step - loss: 1.3327e-04 - val_loss: 7.5496e-04\n",
      "Epoch 18/100\n",
      "12958/12958 [==============================] - 312s 24ms/step - loss: 1.1807e-04 - val_loss: 5.4137e-05\n",
      "Epoch 19/100\n",
      "12958/12958 [==============================] - 313s 24ms/step - loss: 1.1437e-04 - val_loss: 3.7319e-05\n",
      "Epoch 20/100\n",
      "12958/12958 [==============================] - 307s 24ms/step - loss: 1.1253e-04 - val_loss: 2.2194e-05\n",
      "Epoch 21/100\n",
      "12958/12958 [==============================] - 313s 24ms/step - loss: 1.1009e-04 - val_loss: 8.6793e-05\n",
      "Epoch 22/100\n",
      "12958/12958 [==============================] - 311s 24ms/step - loss: 1.0099e-04 - val_loss: 1.5220e-05\n",
      "Epoch 23/100\n",
      "12958/12958 [==============================] - 312s 24ms/step - loss: 9.8507e-05 - val_loss: 1.7728e-05\n",
      "Epoch 24/100\n",
      "12958/12958 [==============================] - 312s 24ms/step - loss: 9.7785e-05 - val_loss: 8.4779e-05\n",
      "Epoch 25/100\n",
      "12958/12958 [==============================] - 312s 24ms/step - loss: 9.4392e-05 - val_loss: 8.8515e-04\n",
      "Epoch 26/100\n",
      "12958/12958 [==============================] - 316s 24ms/step - loss: 8.7794e-05 - val_loss: 8.4982e-05\n",
      "Epoch 27/100\n",
      "12958/12958 [==============================] - 313s 24ms/step - loss: 8.3770e-05 - val_loss: 2.3018e-05\n",
      "Epoch 28/100\n",
      "12958/12958 [==============================] - 306s 24ms/step - loss: 8.2573e-05 - val_loss: 2.8778e-05\n",
      "Epoch 29/100\n",
      "12958/12958 [==============================] - 276s 21ms/step - loss: 7.9351e-05 - val_loss: 3.2145e-05\n",
      "Epoch 30/100\n",
      "12958/12958 [==============================] - 296s 23ms/step - loss: 7.9662e-05 - val_loss: 1.7289e-04\n",
      "Epoch 31/100\n",
      "12958/12958 [==============================] - 294s 23ms/step - loss: 7.6192e-05 - val_loss: 8.0948e-05\n",
      "Epoch 32/100\n",
      "12958/12958 [==============================] - 302s 23ms/step - loss: 7.1520e-05 - val_loss: 9.0077e-05\n",
      "Epoch 33/100\n",
      "12958/12958 [==============================] - 304s 23ms/step - loss: 7.1497e-05 - val_loss: 9.4728e-05\n",
      "Epoch 34/100\n",
      "12958/12958 [==============================] - 272s 21ms/step - loss: 6.8318e-05 - val_loss: 1.4265e-05\n",
      "Epoch 35/100\n",
      "12958/12958 [==============================] - 230s 18ms/step - loss: 7.1383e-05 - val_loss: 1.2915e-05\n",
      "Epoch 36/100\n",
      "12958/12958 [==============================] - 257s 20ms/step - loss: 7.4525e-05 - val_loss: 2.1652e-05\n",
      "Epoch 37/100\n",
      "12958/12958 [==============================] - 234s 18ms/step - loss: 6.4279e-05 - val_loss: 1.2615e-05\n",
      "Epoch 38/100\n",
      "12958/12958 [==============================] - 230s 18ms/step - loss: 6.0125e-05 - val_loss: 5.6420e-05\n",
      "Epoch 39/100\n",
      "12958/12958 [==============================] - 231s 18ms/step - loss: 6.3393e-05 - val_loss: 7.9160e-05\n",
      "Epoch 40/100\n",
      "12958/12958 [==============================] - 233s 18ms/step - loss: 6.4729e-05 - val_loss: 1.1124e-05\n",
      "Epoch 41/100\n",
      "12958/12958 [==============================] - 226s 17ms/step - loss: 6.6003e-05 - val_loss: 6.4696e-05\n",
      "Epoch 42/100\n",
      "12958/12958 [==============================] - 234s 18ms/step - loss: 5.9626e-05 - val_loss: 1.4263e-04\n",
      "Epoch 43/100\n",
      "12958/12958 [==============================] - 241s 19ms/step - loss: 5.5415e-05 - val_loss: 1.8495e-05\n",
      "Epoch 44/100\n",
      "12958/12958 [==============================] - 280s 22ms/step - loss: 5.6669e-05 - val_loss: 1.6571e-04\n",
      "Epoch 45/100\n",
      "12958/12958 [==============================] - 296s 23ms/step - loss: 6.3583e-05 - val_loss: 1.2914e-05\n",
      "Epoch 46/100\n",
      "12958/12958 [==============================] - 295s 23ms/step - loss: 5.0863e-05 - val_loss: 2.3462e-05\n",
      "Epoch 47/100\n",
      "12958/12958 [==============================] - 296s 23ms/step - loss: 5.8691e-05 - val_loss: 7.0010e-05\n",
      "Epoch 48/100\n",
      "12958/12958 [==============================] - 297s 23ms/step - loss: 6.5265e-05 - val_loss: 3.6562e-05\n",
      "Epoch 49/100\n",
      "12958/12958 [==============================] - 296s 23ms/step - loss: 5.0536e-05 - val_loss: 5.7708e-05\n",
      "Epoch 50/100\n",
      "12958/12958 [==============================] - 296s 23ms/step - loss: 0.0032 - val_loss: 0.0022\n",
      "Epoch 51/100\n",
      "12958/12958 [==============================] - 294s 23ms/step - loss: 0.0143 - val_loss: 8.7785e-04\n",
      "Epoch 52/100\n",
      "12958/12958 [==============================] - 295s 23ms/step - loss: 6.4107e-04 - val_loss: 2.0520e-04\n",
      "Epoch 53/100\n",
      "12958/12958 [==============================] - 284s 22ms/step - loss: 3.1428e-04 - val_loss: 8.5230e-05\n",
      "Epoch 54/100\n",
      "12958/12958 [==============================] - 242s 19ms/step - loss: 2.5446e-04 - val_loss: 9.3197e-05\n",
      "Epoch 55/100\n",
      "12958/12958 [==============================] - 232s 18ms/step - loss: 2.0904e-04 - val_loss: 1.1502e-04\n",
      "Epoch 56/100\n",
      "12958/12958 [==============================] - 240s 18ms/step - loss: 0.0123 - val_loss: 2.8143e-04\n",
      "Epoch 57/100\n",
      "12958/12958 [==============================] - 241s 19ms/step - loss: 4.3435e-04 - val_loss: 4.6747e-04\n",
      "Epoch 58/100\n",
      "12958/12958 [==============================] - 245s 19ms/step - loss: 2.5656e-04 - val_loss: 5.9430e-05\n",
      "Epoch 59/100\n",
      "12958/12958 [==============================] - 238s 18ms/step - loss: 2.0954e-04 - val_loss: 5.5342e-05\n",
      "Epoch 60/100\n",
      "12958/12958 [==============================] - 227s 18ms/step - loss: 1.8942e-04 - val_loss: 8.7618e-04\n",
      "Epoch 61/100\n",
      "12958/12958 [==============================] - 237s 18ms/step - loss: 1.8034e-04 - val_loss: 3.7938e-05\n",
      "Epoch 62/100\n",
      "12958/12958 [==============================] - 299s 23ms/step - loss: 1.7462e-04 - val_loss: 5.1949e-05\n",
      "Epoch 63/100\n",
      "12958/12958 [==============================] - 298s 23ms/step - loss: 1.6373e-04 - val_loss: 4.6980e-05\n",
      "Epoch 64/100\n",
      "12958/12958 [==============================] - 295s 23ms/step - loss: 1.6138e-04 - val_loss: 3.0630e-05\n",
      "Epoch 65/100\n",
      "12958/12958 [==============================] - 294s 23ms/step - loss: 1.5037e-04 - val_loss: 1.2204e-04\n",
      "Epoch 66/100\n",
      "12958/12958 [==============================] - 296s 23ms/step - loss: 1.5193e-04 - val_loss: 2.2897e-05\n",
      "Epoch 67/100\n",
      "12958/12958 [==============================] - 293s 23ms/step - loss: 1.3590e-04 - val_loss: 8.1441e-05\n",
      "Epoch 68/100\n",
      "12958/12958 [==============================] - 293s 23ms/step - loss: 1.2143e-04 - val_loss: 3.5505e-05\n",
      "Epoch 69/100\n",
      "12958/12958 [==============================] - 293s 23ms/step - loss: 1.2709e-04 - val_loss: 2.8216e-05\n",
      "Epoch 70/100\n",
      "12958/12958 [==============================] - 293s 23ms/step - loss: 8.6684e-04 - val_loss: 1.7421e-04\n",
      "Epoch 71/100\n",
      "12958/12958 [==============================] - 294s 23ms/step - loss: 1072.7708 - val_loss: 1.1610\n",
      "Epoch 72/100\n",
      "12958/12958 [==============================] - 294s 23ms/step - loss: 31.1516 - val_loss: 0.3697\n",
      "Epoch 73/100\n",
      "12958/12958 [==============================] - 293s 23ms/step - loss: 0.1608 - val_loss: 0.0905\n",
      "Epoch 74/100\n",
      "12958/12958 [==============================] - 293s 23ms/step - loss: 0.1137 - val_loss: 0.0626\n",
      "Epoch 75/100\n",
      "12958/12958 [==============================] - 293s 23ms/step - loss: 0.2040 - val_loss: 0.0491\n",
      "Epoch 76/100\n",
      "12958/12958 [==============================] - 293s 23ms/step - loss: 0.2231 - val_loss: 0.0426\n",
      "Epoch 77/100\n",
      "12958/12958 [==============================] - 293s 23ms/step - loss: 0.0825 - val_loss: 6.2405e-04\n",
      "Epoch 78/100\n",
      "12958/12958 [==============================] - 293s 23ms/step - loss: 0.0015 - val_loss: 0.0010\n",
      "Epoch 79/100\n",
      "12958/12958 [==============================] - 293s 23ms/step - loss: 7.1998e-04 - val_loss: 0.0077\n",
      "Epoch 80/100\n",
      "12958/12958 [==============================] - 292s 23ms/step - loss: 3.8468e-04 - val_loss: 1.7735e-04\n",
      "Epoch 81/100\n",
      "12958/12958 [==============================] - 293s 23ms/step - loss: 2.2765e-04 - val_loss: 4.9777e-05\n",
      "Epoch 82/100\n",
      "12958/12958 [==============================] - 293s 23ms/step - loss: 0.0058 - val_loss: 0.0014\n",
      "Epoch 83/100\n",
      "12958/12958 [==============================] - 293s 23ms/step - loss: 7.0299e-04 - val_loss: 3.2474e-05\n",
      "Epoch 84/100\n",
      "12958/12958 [==============================] - 294s 23ms/step - loss: 4.2022e-04 - val_loss: 1.7405e-04\n",
      "Epoch 85/100\n",
      "12958/12958 [==============================] - 294s 23ms/step - loss: 3.0252e-04 - val_loss: 3.6026e-04\n",
      "Epoch 86/100\n",
      "12958/12958 [==============================] - 294s 23ms/step - loss: 2.5626e-04 - val_loss: 1.1247e-05\n",
      "Epoch 87/100\n",
      "12958/12958 [==============================] - 293s 23ms/step - loss: 2.6857e-04 - val_loss: 2.4451e-04\n",
      "Epoch 88/100\n",
      "12958/12958 [==============================] - 294s 23ms/step - loss: 2.2791e-04 - val_loss: 1.0299e-05\n",
      "Epoch 89/100\n",
      "12958/12958 [==============================] - 294s 23ms/step - loss: 1.7646e-04 - val_loss: 1.0715e-04\n",
      "Epoch 90/100\n",
      "12958/12958 [==============================] - 293s 23ms/step - loss: 0.0023 - val_loss: 1.2414e-05\n",
      "Epoch 91/100\n",
      "12958/12958 [==============================] - 294s 23ms/step - loss: 2.4349e-04 - val_loss: 1.4413e-04\n",
      "Epoch 92/100\n",
      "12958/12958 [==============================] - 293s 23ms/step - loss: 2.2570e-04 - val_loss: 3.8244e-05\n",
      "Epoch 93/100\n",
      "12958/12958 [==============================] - 293s 23ms/step - loss: 2.0200e-04 - val_loss: 1.1846e-05\n",
      "Epoch 94/100\n",
      "12958/12958 [==============================] - 293s 23ms/step - loss: 1.7147e-04 - val_loss: 1.8302e-05\n",
      "Epoch 95/100\n",
      "12958/12958 [==============================] - 293s 23ms/step - loss: 1.7783e-04 - val_loss: 5.2264e-04\n",
      "Epoch 96/100\n",
      "12958/12958 [==============================] - 293s 23ms/step - loss: 1.5997e-04 - val_loss: 1.6563e-05\n",
      "Epoch 97/100\n",
      "12958/12958 [==============================] - 293s 23ms/step - loss: 1.4402e-04 - val_loss: 1.0499e-04\n",
      "Epoch 98/100\n",
      "12958/12958 [==============================] - 293s 23ms/step - loss: 1.3787e-04 - val_loss: 5.8594e-05\n",
      "Epoch 99/100\n",
      "12958/12958 [==============================] - 294s 23ms/step - loss: 1.1614e-04 - val_loss: 4.1191e-05\n",
      "Epoch 100/100\n",
      "12958/12958 [==============================] - 293s 23ms/step - loss: 1.1281e-04 - val_loss: 8.9970e-06\n"
     ]
    }
   ],
   "source": [
    "history = model.fit(X, y, epochs = 100, batch_size=32, validation_split=0.2)"
   ]
  },
  {
   "cell_type": "code",
   "execution_count": 68,
   "metadata": {},
   "outputs": [
    {
     "name": "stdout",
     "output_type": "stream",
     "text": [
      "INFO:tensorflow:Assets written to: models/ethnicity_county\\assets\n"
     ]
    }
   ],
   "source": [
    "model.save('models/ethnicity_county', save_format='tf')\n"
   ]
  },
  {
   "cell_type": "code",
   "execution_count": 67,
   "metadata": {},
   "outputs": [
    {
     "ename": "OSError",
     "evalue": "No file or directory found at models\\ethnicity_county",
     "output_type": "error",
     "traceback": [
      "\u001b[1;31m---------------------------------------------------------------------------\u001b[0m",
      "\u001b[1;31mOSError\u001b[0m                                   Traceback (most recent call last)",
      "Cell \u001b[1;32mIn[67], line 1\u001b[0m\n\u001b[1;32m----> 1\u001b[0m model \u001b[38;5;241m=\u001b[39m \u001b[43mload_model\u001b[49m\u001b[43m(\u001b[49m\u001b[38;5;124;43m\"\u001b[39;49m\u001b[38;5;124;43mmodels\u001b[39;49m\u001b[38;5;124;43m\\\u001b[39;49m\u001b[38;5;124;43methnicity_county\u001b[39;49m\u001b[38;5;124;43m\"\u001b[39;49m\u001b[43m)\u001b[49m\n",
      "File \u001b[1;32mc:\\Users\\dangn\\anaconda3\\envs\\tensorflowgpu\\lib\\site-packages\\keras\\utils\\traceback_utils.py:70\u001b[0m, in \u001b[0;36mfilter_traceback.<locals>.error_handler\u001b[1;34m(*args, **kwargs)\u001b[0m\n\u001b[0;32m     67\u001b[0m     filtered_tb \u001b[38;5;241m=\u001b[39m _process_traceback_frames(e\u001b[38;5;241m.\u001b[39m__traceback__)\n\u001b[0;32m     68\u001b[0m     \u001b[38;5;66;03m# To get the full stack trace, call:\u001b[39;00m\n\u001b[0;32m     69\u001b[0m     \u001b[38;5;66;03m# `tf.debugging.disable_traceback_filtering()`\u001b[39;00m\n\u001b[1;32m---> 70\u001b[0m     \u001b[38;5;28;01mraise\u001b[39;00m e\u001b[38;5;241m.\u001b[39mwith_traceback(filtered_tb) \u001b[38;5;28;01mfrom\u001b[39;00m \u001b[38;5;28;01mNone\u001b[39;00m\n\u001b[0;32m     71\u001b[0m \u001b[38;5;28;01mfinally\u001b[39;00m:\n\u001b[0;32m     72\u001b[0m     \u001b[38;5;28;01mdel\u001b[39;00m filtered_tb\n",
      "File \u001b[1;32mc:\\Users\\dangn\\anaconda3\\envs\\tensorflowgpu\\lib\\site-packages\\keras\\saving\\save.py:226\u001b[0m, in \u001b[0;36mload_model\u001b[1;34m(filepath, custom_objects, compile, options)\u001b[0m\n\u001b[0;32m    224\u001b[0m \u001b[38;5;28;01mif\u001b[39;00m \u001b[38;5;28misinstance\u001b[39m(filepath_str, \u001b[38;5;28mstr\u001b[39m):\n\u001b[0;32m    225\u001b[0m     \u001b[38;5;28;01mif\u001b[39;00m \u001b[38;5;129;01mnot\u001b[39;00m tf\u001b[38;5;241m.\u001b[39mio\u001b[38;5;241m.\u001b[39mgfile\u001b[38;5;241m.\u001b[39mexists(filepath_str):\n\u001b[1;32m--> 226\u001b[0m         \u001b[38;5;28;01mraise\u001b[39;00m \u001b[38;5;167;01mIOError\u001b[39;00m(\n\u001b[0;32m    227\u001b[0m             \u001b[38;5;124mf\u001b[39m\u001b[38;5;124m\"\u001b[39m\u001b[38;5;124mNo file or directory found at \u001b[39m\u001b[38;5;132;01m{\u001b[39;00mfilepath_str\u001b[38;5;132;01m}\u001b[39;00m\u001b[38;5;124m\"\u001b[39m\n\u001b[0;32m    228\u001b[0m         )\n\u001b[0;32m    230\u001b[0m     \u001b[38;5;28;01mif\u001b[39;00m tf\u001b[38;5;241m.\u001b[39mio\u001b[38;5;241m.\u001b[39mgfile\u001b[38;5;241m.\u001b[39misdir(filepath_str):\n\u001b[0;32m    231\u001b[0m         \u001b[38;5;28;01mreturn\u001b[39;00m saved_model_load\u001b[38;5;241m.\u001b[39mload(\n\u001b[0;32m    232\u001b[0m             filepath_str, \u001b[38;5;28mcompile\u001b[39m, options\n\u001b[0;32m    233\u001b[0m         )\n",
      "\u001b[1;31mOSError\u001b[0m: No file or directory found at models\\ethnicity_county"
     ]
    }
   ],
   "source": [
    "model = load_model(\"models\\ethnicity_county\")"
   ]
  },
  {
   "cell_type": "code",
   "execution_count": null,
   "metadata": {},
   "outputs": [
    {
     "data": {
      "text/plain": [
       "[(0, 'Alameda'),\n",
       " (1, 'Alpine'),\n",
       " (2, 'Amador'),\n",
       " (3, 'Butte'),\n",
       " (4, 'Calaveras'),\n",
       " (5, 'Colusa'),\n",
       " (6, 'Contra Costa'),\n",
       " (7, 'Del Norte'),\n",
       " (8, 'El Dorado'),\n",
       " (9, 'Fresno'),\n",
       " (10, 'Glenn'),\n",
       " (11, 'Humboldt'),\n",
       " (12, 'Imperial'),\n",
       " (13, 'Inyo'),\n",
       " (14, 'Kern'),\n",
       " (15, 'Kings'),\n",
       " (16, 'Lake'),\n",
       " (17, 'Lassen'),\n",
       " (18, 'Los Angeles'),\n",
       " (19, 'Madera'),\n",
       " (20, 'Marin'),\n",
       " (21, 'Mariposa'),\n",
       " (22, 'Mendocino'),\n",
       " (23, 'Merced'),\n",
       " (24, 'Modoc'),\n",
       " (25, 'Mono'),\n",
       " (26, 'Monterey'),\n",
       " (27, 'Napa'),\n",
       " (28, 'Nevada'),\n",
       " (29, 'Orange'),\n",
       " (30, 'Placer'),\n",
       " (31, 'Plumas'),\n",
       " (32, 'Riverside'),\n",
       " (33, 'Sacramento'),\n",
       " (34, 'San Benito'),\n",
       " (35, 'San Bernardino'),\n",
       " (36, 'San Diego'),\n",
       " (37, 'San Francisco'),\n",
       " (38, 'San Joaquin'),\n",
       " (39, 'San Luis Obispo'),\n",
       " (40, 'San Mateo'),\n",
       " (41, 'Santa Barbara'),\n",
       " (42, 'Santa Clara'),\n",
       " (43, 'Santa Cruz'),\n",
       " (44, 'Shasta'),\n",
       " (45, 'Sierra'),\n",
       " (46, 'Siskiyou'),\n",
       " (47, 'Solano'),\n",
       " (48, 'Sonoma'),\n",
       " (49, 'Stanislaus'),\n",
       " (50, 'Statewide'),\n",
       " (51, 'Sutter'),\n",
       " (52, 'Tehama'),\n",
       " (53, 'Trinity'),\n",
       " (54, 'Tulare'),\n",
       " (55, 'Tuolumne'),\n",
       " (56, 'Ventura'),\n",
       " (57, 'Yolo'),\n",
       " (58, 'Yuba')]"
      ]
     },
     "execution_count": 35,
     "metadata": {},
     "output_type": "execute_result"
    }
   ],
   "source": [
    "encoded_county = list(zip(df['county_encoded'].unique(), df['county'].unique()))\n",
    "\n",
    "sorted(encoded_county, key=lambda x: x[0])"
   ]
  },
  {
   "cell_type": "code",
   "execution_count": null,
   "metadata": {},
   "outputs": [
    {
     "data": {
      "text/plain": [
       "[('American Indian or Alaska Native', 0),\n",
       " ('Asian', 1),\n",
       " ('Black or African American', 2),\n",
       " ('Latino', 3),\n",
       " ('Multiracial', 4),\n",
       " ('Native Hawaiian or Other Pacific Islander', 5),\n",
       " ('White', 6)]"
      ]
     },
     "execution_count": 36,
     "metadata": {},
     "output_type": "execute_result"
    }
   ],
   "source": [
    "encoded_ethnicity = list(zip(df['demographic_value'].unique(), df['demographic_encoded'].unique()))\n",
    "\n",
    "sorted(encoded_ethnicity, key=lambda x: x[0])"
   ]
  },
  {
   "cell_type": "code",
   "execution_count": null,
   "metadata": {},
   "outputs": [
    {
     "data": {
      "text/html": [
       "<div>\n",
       "<style scoped>\n",
       "    .dataframe tbody tr th:only-of-type {\n",
       "        vertical-align: middle;\n",
       "    }\n",
       "\n",
       "    .dataframe tbody tr th {\n",
       "        vertical-align: top;\n",
       "    }\n",
       "\n",
       "    .dataframe thead th {\n",
       "        text-align: right;\n",
       "    }\n",
       "</style>\n",
       "<table border=\"1\" class=\"dataframe\">\n",
       "  <thead>\n",
       "    <tr style=\"text-align: right;\">\n",
       "      <th></th>\n",
       "      <th>percent_fully</th>\n",
       "      <th>county_encoded</th>\n",
       "      <th>demographic_encoded</th>\n",
       "      <th>time_since_start</th>\n",
       "    </tr>\n",
       "  </thead>\n",
       "  <tbody>\n",
       "    <tr>\n",
       "      <th>1577103</th>\n",
       "      <td>2.966620e-01</td>\n",
       "      <td>42</td>\n",
       "      <td>1</td>\n",
       "      <td>1488</td>\n",
       "    </tr>\n",
       "    <tr>\n",
       "      <th>1577104</th>\n",
       "      <td>2.966620e-01</td>\n",
       "      <td>42</td>\n",
       "      <td>1</td>\n",
       "      <td>1487</td>\n",
       "    </tr>\n",
       "    <tr>\n",
       "      <th>1577105</th>\n",
       "      <td>2.966620e-01</td>\n",
       "      <td>42</td>\n",
       "      <td>1</td>\n",
       "      <td>1486</td>\n",
       "    </tr>\n",
       "    <tr>\n",
       "      <th>1577106</th>\n",
       "      <td>2.966620e-01</td>\n",
       "      <td>42</td>\n",
       "      <td>1</td>\n",
       "      <td>1485</td>\n",
       "    </tr>\n",
       "    <tr>\n",
       "      <th>1577107</th>\n",
       "      <td>2.966620e-01</td>\n",
       "      <td>42</td>\n",
       "      <td>1</td>\n",
       "      <td>1484</td>\n",
       "    </tr>\n",
       "    <tr>\n",
       "      <th>...</th>\n",
       "      <td>...</td>\n",
       "      <td>...</td>\n",
       "      <td>...</td>\n",
       "      <td>...</td>\n",
       "    </tr>\n",
       "    <tr>\n",
       "      <th>1578552</th>\n",
       "      <td>1.382155e-06</td>\n",
       "      <td>42</td>\n",
       "      <td>1</td>\n",
       "      <td>39</td>\n",
       "    </tr>\n",
       "    <tr>\n",
       "      <th>1578553</th>\n",
       "      <td>9.214365e-07</td>\n",
       "      <td>42</td>\n",
       "      <td>1</td>\n",
       "      <td>38</td>\n",
       "    </tr>\n",
       "    <tr>\n",
       "      <th>1578554</th>\n",
       "      <td>9.214365e-07</td>\n",
       "      <td>42</td>\n",
       "      <td>1</td>\n",
       "      <td>37</td>\n",
       "    </tr>\n",
       "    <tr>\n",
       "      <th>1578555</th>\n",
       "      <td>9.214365e-07</td>\n",
       "      <td>42</td>\n",
       "      <td>1</td>\n",
       "      <td>36</td>\n",
       "    </tr>\n",
       "    <tr>\n",
       "      <th>1578556</th>\n",
       "      <td>4.607182e-07</td>\n",
       "      <td>42</td>\n",
       "      <td>1</td>\n",
       "      <td>35</td>\n",
       "    </tr>\n",
       "  </tbody>\n",
       "</table>\n",
       "<p>1454 rows × 4 columns</p>\n",
       "</div>"
      ],
      "text/plain": [
       "         percent_fully  county_encoded  demographic_encoded  time_since_start\n",
       "1577103   2.966620e-01              42                    1              1488\n",
       "1577104   2.966620e-01              42                    1              1487\n",
       "1577105   2.966620e-01              42                    1              1486\n",
       "1577106   2.966620e-01              42                    1              1485\n",
       "1577107   2.966620e-01              42                    1              1484\n",
       "...                ...             ...                  ...               ...\n",
       "1578552   1.382155e-06              42                    1                39\n",
       "1578553   9.214365e-07              42                    1                38\n",
       "1578554   9.214365e-07              42                    1                37\n",
       "1578555   9.214365e-07              42                    1                36\n",
       "1578556   4.607182e-07              42                    1                35\n",
       "\n",
       "[1454 rows x 4 columns]"
      ]
     },
     "execution_count": 41,
     "metadata": {},
     "output_type": "execute_result"
    }
   ],
   "source": [
    "#forecast - 30 days - Santa Clara - Asian\n",
    "forecast = 30\n",
    "\n",
    "forecast_df = prep_df[(prep_df['county_encoded'] == 42) & (prep_df['demographic_encoded'] == 1)]\n",
    "\n",
    "forecast_df"
   ]
  }
 ],
 "metadata": {
  "kernelspec": {
   "display_name": "tensorflowgpu",
   "language": "python",
   "name": "python3"
  },
  "language_info": {
   "codemirror_mode": {
    "name": "ipython",
    "version": 3
   },
   "file_extension": ".py",
   "mimetype": "text/x-python",
   "name": "python",
   "nbconvert_exporter": "python",
   "pygments_lexer": "ipython3",
   "version": "3.10.14"
  }
 },
 "nbformat": 4,
 "nbformat_minor": 2
}
