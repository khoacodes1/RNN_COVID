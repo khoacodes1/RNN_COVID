{
 "cells": [
  {
   "cell_type": "code",
   "execution_count": 44,
   "metadata": {},
   "outputs": [
    {
     "data": {
      "text/plain": [
       "'c:\\\\Users\\\\dangn\\\\anaconda3\\\\envs\\\\tensorflowgpu\\\\python.exe'"
      ]
     },
     "execution_count": 44,
     "metadata": {},
     "output_type": "execute_result"
    }
   ],
   "source": [
    "import sys\n",
    "sys.executable"
   ]
  },
  {
   "cell_type": "code",
   "execution_count": 45,
   "metadata": {},
   "outputs": [
    {
     "name": "stdout",
     "output_type": "stream",
     "text": [
      "Num GPUs Available:  1\n"
     ]
    }
   ],
   "source": [
    "import tensorflow as tf   \n",
    "print(\"Num GPUs Available: \", len(tf.config.list_physical_devices('GPU')))"
   ]
  },
  {
   "cell_type": "code",
   "execution_count": 46,
   "metadata": {},
   "outputs": [],
   "source": [
    "import pandas as pd\n",
    "import matplotlib.pyplot as plt\n",
    "import numpy as np\n",
    "import random "
   ]
  },
  {
   "cell_type": "code",
   "execution_count": 47,
   "metadata": {},
   "outputs": [],
   "source": [
    "from sklearn.preprocessing import LabelEncoder\n",
    "from tensorflow.keras.models import Sequential\n",
    "from tensorflow.keras.layers import LSTM, Dense\n",
    "from tensorflow.keras.optimizers import Adam"
   ]
  },
  {
   "cell_type": "code",
   "execution_count": 48,
   "metadata": {},
   "outputs": [
    {
     "name": "stdout",
     "output_type": "stream",
     "text": [
      "c:\\Users\\dangn\\anaconda3\\envs\\tensorflowgpu\\python.exe\n"
     ]
    }
   ],
   "source": [
    "import sys\n",
    "print(sys.executable)"
   ]
  },
  {
   "cell_type": "code",
   "execution_count": 49,
   "metadata": {},
   "outputs": [
    {
     "name": "stdout",
     "output_type": "stream",
     "text": [
      "Num GPUs Available:  1\n"
     ]
    }
   ],
   "source": [
    "import tensorflow as tf   \n",
    "print(\"Num GPUs Available: \", len(tf.config.list_physical_devices('GPU')))"
   ]
  },
  {
   "cell_type": "code",
   "execution_count": 50,
   "metadata": {},
   "outputs": [],
   "source": [
    "df = pd.read_csv(\"datasets\\covid19vaccinesbycountybydemographic.csv\")"
   ]
  },
  {
   "cell_type": "code",
   "execution_count": 51,
   "metadata": {},
   "outputs": [
    {
     "data": {
      "text/plain": [
       "array(['Race/Ethnicity'], dtype=object)"
      ]
     },
     "execution_count": 51,
     "metadata": {},
     "output_type": "execute_result"
    }
   ],
   "source": [
    "df = df[df['demographic_category'].str.contains(\"Race/Ethnicity\")]\n",
    "\n",
    "df['demographic_category'].unique()"
   ]
  },
  {
   "cell_type": "code",
   "execution_count": 52,
   "metadata": {},
   "outputs": [
    {
     "data": {
      "text/plain": [
       "array(['American Indian or Alaska Native', 'Asian',\n",
       "       'Black or African American', 'Latino', 'Multiracial',\n",
       "       'Native Hawaiian or Other Pacific Islander', 'Other Race',\n",
       "       'Unknown', 'White'], dtype=object)"
      ]
     },
     "execution_count": 52,
     "metadata": {},
     "output_type": "execute_result"
    }
   ],
   "source": [
    "df['demographic_value'].unique()"
   ]
  },
  {
   "cell_type": "code",
   "execution_count": 53,
   "metadata": {},
   "outputs": [
    {
     "data": {
      "text/plain": [
       "array(['American Indian or Alaska Native', 'Asian',\n",
       "       'Black or African American', 'Latino', 'Multiracial',\n",
       "       'Native Hawaiian or Other Pacific Islander', 'White'], dtype=object)"
      ]
     },
     "execution_count": 53,
     "metadata": {},
     "output_type": "execute_result"
    }
   ],
   "source": [
    "df = df[~df['demographic_value'].str.contains(\"Other Race|Unknown\")]\n",
    "\n",
    "df['demographic_value'].unique()"
   ]
  },
  {
   "cell_type": "code",
   "execution_count": 54,
   "metadata": {},
   "outputs": [],
   "source": [
    "encoder = LabelEncoder()\n",
    "df['county_encoded'] = encoder.fit_transform(df['county'])\n",
    "df['demographic_encoded'] = encoder.fit_transform(df['demographic_value'])"
   ]
  },
  {
   "cell_type": "code",
   "execution_count": 55,
   "metadata": {},
   "outputs": [],
   "source": [
    "df['total_population'] = df['est_population'] + df['est_age_12plus_pop'] + df['est_age_5plus_pop']\n",
    "\n",
    "df['percent_fully'] = df['cumulative_fully_vaccinated'] / df['total_population']"
   ]
  },
  {
   "cell_type": "code",
   "execution_count": 56,
   "metadata": {},
   "outputs": [],
   "source": [
    "df['administered_date'] = pd.to_datetime(df['administered_date'], format = '%Y-%m-%d')\n",
    "\n",
    "df['time_since_start'] = (df['administered_date'] - df['administered_date'].min()).dt.days"
   ]
  },
  {
   "cell_type": "code",
   "execution_count": 57,
   "metadata": {},
   "outputs": [
    {
     "data": {
      "text/html": [
       "<div>\n",
       "<style scoped>\n",
       "    .dataframe tbody tr th:only-of-type {\n",
       "        vertical-align: middle;\n",
       "    }\n",
       "\n",
       "    .dataframe tbody tr th {\n",
       "        vertical-align: top;\n",
       "    }\n",
       "\n",
       "    .dataframe thead th {\n",
       "        text-align: right;\n",
       "    }\n",
       "</style>\n",
       "<table border=\"1\" class=\"dataframe\">\n",
       "  <thead>\n",
       "    <tr style=\"text-align: right;\">\n",
       "      <th></th>\n",
       "      <th>percent_fully</th>\n",
       "      <th>county_encoded</th>\n",
       "      <th>demographic_encoded</th>\n",
       "      <th>time_since_start</th>\n",
       "    </tr>\n",
       "  </thead>\n",
       "  <tbody>\n",
       "    <tr>\n",
       "      <th>24240</th>\n",
       "      <td>0.360569</td>\n",
       "      <td>0</td>\n",
       "      <td>0</td>\n",
       "      <td>1488</td>\n",
       "    </tr>\n",
       "    <tr>\n",
       "      <th>24241</th>\n",
       "      <td>0.360569</td>\n",
       "      <td>0</td>\n",
       "      <td>0</td>\n",
       "      <td>1487</td>\n",
       "    </tr>\n",
       "    <tr>\n",
       "      <th>24242</th>\n",
       "      <td>0.360569</td>\n",
       "      <td>0</td>\n",
       "      <td>0</td>\n",
       "      <td>1486</td>\n",
       "    </tr>\n",
       "    <tr>\n",
       "      <th>24243</th>\n",
       "      <td>0.360569</td>\n",
       "      <td>0</td>\n",
       "      <td>0</td>\n",
       "      <td>1485</td>\n",
       "    </tr>\n",
       "    <tr>\n",
       "      <th>24244</th>\n",
       "      <td>0.360569</td>\n",
       "      <td>0</td>\n",
       "      <td>0</td>\n",
       "      <td>1484</td>\n",
       "    </tr>\n",
       "    <tr>\n",
       "      <th>...</th>\n",
       "      <td>...</td>\n",
       "      <td>...</td>\n",
       "      <td>...</td>\n",
       "      <td>...</td>\n",
       "    </tr>\n",
       "    <tr>\n",
       "      <th>2179876</th>\n",
       "      <td>0.000000</td>\n",
       "      <td>58</td>\n",
       "      <td>6</td>\n",
       "      <td>4</td>\n",
       "    </tr>\n",
       "    <tr>\n",
       "      <th>2179877</th>\n",
       "      <td>0.000000</td>\n",
       "      <td>58</td>\n",
       "      <td>6</td>\n",
       "      <td>3</td>\n",
       "    </tr>\n",
       "    <tr>\n",
       "      <th>2179878</th>\n",
       "      <td>0.000000</td>\n",
       "      <td>58</td>\n",
       "      <td>6</td>\n",
       "      <td>2</td>\n",
       "    </tr>\n",
       "    <tr>\n",
       "      <th>2179879</th>\n",
       "      <td>0.000000</td>\n",
       "      <td>58</td>\n",
       "      <td>6</td>\n",
       "      <td>1</td>\n",
       "    </tr>\n",
       "    <tr>\n",
       "      <th>2179880</th>\n",
       "      <td>0.000000</td>\n",
       "      <td>58</td>\n",
       "      <td>6</td>\n",
       "      <td>0</td>\n",
       "    </tr>\n",
       "  </tbody>\n",
       "</table>\n",
       "<p>614957 rows × 4 columns</p>\n",
       "</div>"
      ],
      "text/plain": [
       "         percent_fully  county_encoded  demographic_encoded  time_since_start\n",
       "24240         0.360569               0                    0              1488\n",
       "24241         0.360569               0                    0              1487\n",
       "24242         0.360569               0                    0              1486\n",
       "24243         0.360569               0                    0              1485\n",
       "24244         0.360569               0                    0              1484\n",
       "...                ...             ...                  ...               ...\n",
       "2179876       0.000000              58                    6                 4\n",
       "2179877       0.000000              58                    6                 3\n",
       "2179878       0.000000              58                    6                 2\n",
       "2179879       0.000000              58                    6                 1\n",
       "2179880       0.000000              58                    6                 0\n",
       "\n",
       "[614957 rows x 4 columns]"
      ]
     },
     "execution_count": 57,
     "metadata": {},
     "output_type": "execute_result"
    }
   ],
   "source": [
    "\n",
    "prep_df = df[['percent_fully', 'county_encoded', 'demographic_encoded', 'time_since_start']]\n",
    "\n",
    "prep_df"
   ]
  },
  {
   "cell_type": "code",
   "execution_count": 58,
   "metadata": {},
   "outputs": [
    {
     "data": {
      "text/html": [
       "<div>\n",
       "<style scoped>\n",
       "    .dataframe tbody tr th:only-of-type {\n",
       "        vertical-align: middle;\n",
       "    }\n",
       "\n",
       "    .dataframe tbody tr th {\n",
       "        vertical-align: top;\n",
       "    }\n",
       "\n",
       "    .dataframe thead th {\n",
       "        text-align: right;\n",
       "    }\n",
       "</style>\n",
       "<table border=\"1\" class=\"dataframe\">\n",
       "  <thead>\n",
       "    <tr style=\"text-align: right;\">\n",
       "      <th></th>\n",
       "      <th>percent_fully</th>\n",
       "      <th>county_encoded</th>\n",
       "      <th>demographic_encoded</th>\n",
       "      <th>time_since_start</th>\n",
       "    </tr>\n",
       "  </thead>\n",
       "  <tbody>\n",
       "    <tr>\n",
       "      <th>24240</th>\n",
       "      <td>0.360569</td>\n",
       "      <td>0</td>\n",
       "      <td>0</td>\n",
       "      <td>1488</td>\n",
       "    </tr>\n",
       "    <tr>\n",
       "      <th>24241</th>\n",
       "      <td>0.360569</td>\n",
       "      <td>0</td>\n",
       "      <td>0</td>\n",
       "      <td>1487</td>\n",
       "    </tr>\n",
       "    <tr>\n",
       "      <th>24242</th>\n",
       "      <td>0.360569</td>\n",
       "      <td>0</td>\n",
       "      <td>0</td>\n",
       "      <td>1486</td>\n",
       "    </tr>\n",
       "    <tr>\n",
       "      <th>24243</th>\n",
       "      <td>0.360569</td>\n",
       "      <td>0</td>\n",
       "      <td>0</td>\n",
       "      <td>1485</td>\n",
       "    </tr>\n",
       "    <tr>\n",
       "      <th>24244</th>\n",
       "      <td>0.360569</td>\n",
       "      <td>0</td>\n",
       "      <td>0</td>\n",
       "      <td>1484</td>\n",
       "    </tr>\n",
       "    <tr>\n",
       "      <th>...</th>\n",
       "      <td>...</td>\n",
       "      <td>...</td>\n",
       "      <td>...</td>\n",
       "      <td>...</td>\n",
       "    </tr>\n",
       "    <tr>\n",
       "      <th>2179837</th>\n",
       "      <td>0.000009</td>\n",
       "      <td>58</td>\n",
       "      <td>6</td>\n",
       "      <td>43</td>\n",
       "    </tr>\n",
       "    <tr>\n",
       "      <th>2179838</th>\n",
       "      <td>0.000009</td>\n",
       "      <td>58</td>\n",
       "      <td>6</td>\n",
       "      <td>42</td>\n",
       "    </tr>\n",
       "    <tr>\n",
       "      <th>2179839</th>\n",
       "      <td>0.000009</td>\n",
       "      <td>58</td>\n",
       "      <td>6</td>\n",
       "      <td>41</td>\n",
       "    </tr>\n",
       "    <tr>\n",
       "      <th>2179840</th>\n",
       "      <td>0.000009</td>\n",
       "      <td>58</td>\n",
       "      <td>6</td>\n",
       "      <td>40</td>\n",
       "    </tr>\n",
       "    <tr>\n",
       "      <th>2179841</th>\n",
       "      <td>0.000009</td>\n",
       "      <td>58</td>\n",
       "      <td>6</td>\n",
       "      <td>39</td>\n",
       "    </tr>\n",
       "  </tbody>\n",
       "</table>\n",
       "<p>522144 rows × 4 columns</p>\n",
       "</div>"
      ],
      "text/plain": [
       "         percent_fully  county_encoded  demographic_encoded  time_since_start\n",
       "24240         0.360569               0                    0              1488\n",
       "24241         0.360569               0                    0              1487\n",
       "24242         0.360569               0                    0              1486\n",
       "24243         0.360569               0                    0              1485\n",
       "24244         0.360569               0                    0              1484\n",
       "...                ...             ...                  ...               ...\n",
       "2179837       0.000009              58                    6                43\n",
       "2179838       0.000009              58                    6                42\n",
       "2179839       0.000009              58                    6                41\n",
       "2179840       0.000009              58                    6                40\n",
       "2179841       0.000009              58                    6                39\n",
       "\n",
       "[522144 rows x 4 columns]"
      ]
     },
     "execution_count": 58,
     "metadata": {},
     "output_type": "execute_result"
    }
   ],
   "source": [
    "prep_df = prep_df[prep_df['percent_fully'] != 0]\n",
    "prep_df = prep_df[prep_df['percent_fully'].notnull()]\n",
    "\n",
    "\n",
    "prep_df"
   ]
  },
  {
   "cell_type": "code",
   "execution_count": 59,
   "metadata": {},
   "outputs": [],
   "source": [
    "time_step = 10\n",
    "\n",
    "\n",
    "grouped_county = prep_df.groupby(['county_encoded', 'demographic_encoded'])\n"
   ]
  },
  {
   "cell_type": "code",
   "execution_count": 60,
   "metadata": {},
   "outputs": [],
   "source": [
    "X = []\n",
    "y = []\n",
    "\n",
    "for name, group in grouped_county:\n",
    "    values = group[['percent_fully', 'county_encoded', 'demographic_encoded', 'time_since_start']].values\n",
    "\n",
    "    for i in range(len(values) - time_step):\n",
    "        X.append(values[i:i+time_step,:])\n",
    "        y.append(values[i+time_step, 0])\n",
    "\n",
    "X = np.array(X)\n",
    "y = np.array(y)"
   ]
  },
  {
   "cell_type": "code",
   "execution_count": 61,
   "metadata": {},
   "outputs": [
    {
     "data": {
      "text/plain": [
       "(518314, 10, 4)"
      ]
     },
     "execution_count": 61,
     "metadata": {},
     "output_type": "execute_result"
    }
   ],
   "source": [
    "X.shape"
   ]
  },
  {
   "cell_type": "code",
   "execution_count": 62,
   "metadata": {},
   "outputs": [
    {
     "data": {
      "text/plain": [
       "array([[[   0.360569  ,    0.        ,    0.        , 1488.        ],\n",
       "        [   0.360569  ,    0.        ,    0.        , 1487.        ],\n",
       "        [   0.360569  ,    0.        ,    0.        , 1486.        ],\n",
       "        ...,\n",
       "        [   0.360569  ,    0.        ,    0.        , 1481.        ],\n",
       "        [   0.360569  ,    0.        ,    0.        , 1480.        ],\n",
       "        [   0.360569  ,    0.        ,    0.        , 1479.        ]],\n",
       "\n",
       "       [[   0.360569  ,    0.        ,    0.        , 1487.        ],\n",
       "        [   0.360569  ,    0.        ,    0.        , 1486.        ],\n",
       "        [   0.360569  ,    0.        ,    0.        , 1485.        ],\n",
       "        ...,\n",
       "        [   0.360569  ,    0.        ,    0.        , 1480.        ],\n",
       "        [   0.360569  ,    0.        ,    0.        , 1479.        ],\n",
       "        [   0.360569  ,    0.        ,    0.        , 1478.        ]],\n",
       "\n",
       "       [[   0.360569  ,    0.        ,    0.        , 1486.        ],\n",
       "        [   0.360569  ,    0.        ,    0.        , 1485.        ],\n",
       "        [   0.360569  ,    0.        ,    0.        , 1484.        ],\n",
       "        ...,\n",
       "        [   0.360569  ,    0.        ,    0.        , 1479.        ],\n",
       "        [   0.360569  ,    0.        ,    0.        , 1478.        ],\n",
       "        [   0.360569  ,    0.        ,    0.        , 1477.        ]],\n",
       "\n",
       "       ...,\n",
       "\n",
       "       [[   0.00000884,   58.        ,    6.        ,   51.        ],\n",
       "        [   0.00000884,   58.        ,    6.        ,   50.        ],\n",
       "        [   0.00000884,   58.        ,    6.        ,   49.        ],\n",
       "        ...,\n",
       "        [   0.00000884,   58.        ,    6.        ,   44.        ],\n",
       "        [   0.00000884,   58.        ,    6.        ,   43.        ],\n",
       "        [   0.00000884,   58.        ,    6.        ,   42.        ]],\n",
       "\n",
       "       [[   0.00000884,   58.        ,    6.        ,   50.        ],\n",
       "        [   0.00000884,   58.        ,    6.        ,   49.        ],\n",
       "        [   0.00000884,   58.        ,    6.        ,   48.        ],\n",
       "        ...,\n",
       "        [   0.00000884,   58.        ,    6.        ,   43.        ],\n",
       "        [   0.00000884,   58.        ,    6.        ,   42.        ],\n",
       "        [   0.00000884,   58.        ,    6.        ,   41.        ]],\n",
       "\n",
       "       [[   0.00000884,   58.        ,    6.        ,   49.        ],\n",
       "        [   0.00000884,   58.        ,    6.        ,   48.        ],\n",
       "        [   0.00000884,   58.        ,    6.        ,   47.        ],\n",
       "        ...,\n",
       "        [   0.00000884,   58.        ,    6.        ,   42.        ],\n",
       "        [   0.00000884,   58.        ,    6.        ,   41.        ],\n",
       "        [   0.00000884,   58.        ,    6.        ,   40.        ]]])"
      ]
     },
     "execution_count": 62,
     "metadata": {},
     "output_type": "execute_result"
    }
   ],
   "source": [
    "np.set_printoptions(suppress=True)\n",
    "\n",
    "X"
   ]
  },
  {
   "cell_type": "code",
   "execution_count": 63,
   "metadata": {},
   "outputs": [
    {
     "name": "stdout",
     "output_type": "stream",
     "text": [
      "WARNING:tensorflow:Layer lstm will not use cuDNN kernels since it doesn't meet the criteria. It will use a generic GPU kernel as fallback when running on GPU.\n",
      "Model: \"sequential\"\n",
      "_________________________________________________________________\n",
      " Layer (type)                Output Shape              Param #   \n",
      "=================================================================\n",
      " lstm (LSTM)                 (None, 20)                2000      \n",
      "                                                                 \n",
      " dense (Dense)               (None, 10)                210       \n",
      "                                                                 \n",
      " dense_1 (Dense)             (None, 1)                 11        \n",
      "                                                                 \n",
      "=================================================================\n",
      "Total params: 2,221\n",
      "Trainable params: 2,221\n",
      "Non-trainable params: 0\n",
      "_________________________________________________________________\n"
     ]
    }
   ],
   "source": [
    "model = Sequential()\n",
    "\n",
    "model.add(LSTM(20, activation = \"relu\", input_shape = (X.shape[1], X.shape[2])))\n",
    "model.add(Dense(10))\n",
    "model.add(Dense(1))\n",
    "model.compile(optimizer=Adam(learning_rate=0.001), loss='mse')\n",
    "model.summary()"
   ]
  },
  {
   "cell_type": "code",
   "execution_count": 64,
   "metadata": {},
   "outputs": [
    {
     "name": "stdout",
     "output_type": "stream",
     "text": [
      "Epoch 1/100\n",
      "12958/12958 [==============================] - 242s 19ms/step - loss: 69.8424 - val_loss: 0.0197\n",
      "Epoch 2/100\n",
      "12958/12958 [==============================] - 244s 19ms/step - loss: 0.0073 - val_loss: 8.1988e-04\n",
      "Epoch 3/100\n",
      "12958/12958 [==============================] - 235s 18ms/step - loss: 0.0016 - val_loss: 6.5378e-04\n",
      "Epoch 4/100\n",
      "12958/12958 [==============================] - 239s 18ms/step - loss: 4.5172e-04 - val_loss: 6.6198e-05\n",
      "Epoch 5/100\n",
      "12958/12958 [==============================] - 241s 19ms/step - loss: 1.0467e-04 - val_loss: 1.5069e-05\n",
      "Epoch 6/100\n",
      "12958/12958 [==============================] - 240s 18ms/step - loss: 5.5526e-05 - val_loss: 1.2366e-06\n",
      "Epoch 7/100\n",
      "12958/12958 [==============================] - 241s 19ms/step - loss: 4.5678e-05 - val_loss: 4.3898e-05\n",
      "Epoch 8/100\n",
      "12958/12958 [==============================] - 238s 18ms/step - loss: 3.9580e-05 - val_loss: 1.9524e-04\n",
      "Epoch 9/100\n",
      "12958/12958 [==============================] - 240s 19ms/step - loss: 3.6292e-05 - val_loss: 1.7007e-04\n",
      "Epoch 10/100\n",
      "12958/12958 [==============================] - 234s 18ms/step - loss: 3.1557e-05 - val_loss: 1.0607e-06\n",
      "Epoch 11/100\n",
      "12958/12958 [==============================] - 236s 18ms/step - loss: 2.6571e-05 - val_loss: 8.4146e-04\n",
      "Epoch 12/100\n",
      "12958/12958 [==============================] - 240s 19ms/step - loss: 2.4845e-05 - val_loss: 1.3048e-06\n",
      "Epoch 13/100\n",
      "12958/12958 [==============================] - 234s 18ms/step - loss: 2.8656e-05 - val_loss: 2.4633e-06\n",
      "Epoch 14/100\n",
      "12958/12958 [==============================] - 237s 18ms/step - loss: 2.1180e-05 - val_loss: 5.9386e-06\n",
      "Epoch 15/100\n",
      "12958/12958 [==============================] - 240s 19ms/step - loss: 2.3455e-05 - val_loss: 8.0621e-06\n",
      "Epoch 16/100\n",
      "12958/12958 [==============================] - 242s 19ms/step - loss: 2.0049e-05 - val_loss: 3.5631e-06\n",
      "Epoch 17/100\n",
      "12958/12958 [==============================] - 233s 18ms/step - loss: 2.0861e-05 - val_loss: 1.1703e-05\n",
      "Epoch 18/100\n",
      "12958/12958 [==============================] - 241s 19ms/step - loss: 2.1495e-05 - val_loss: 3.0539e-06\n",
      "Epoch 19/100\n",
      "12958/12958 [==============================] - 242s 19ms/step - loss: 2.0938e-05 - val_loss: 8.1303e-06\n",
      "Epoch 20/100\n",
      "12958/12958 [==============================] - 230s 18ms/step - loss: 1.8265e-05 - val_loss: 2.2913e-06\n",
      "Epoch 21/100\n",
      "12958/12958 [==============================] - 251s 19ms/step - loss: 1.8938e-05 - val_loss: 2.4893e-06\n",
      "Epoch 22/100\n",
      "12958/12958 [==============================] - 300s 23ms/step - loss: 1.5729e-05 - val_loss: 2.0872e-06\n",
      "Epoch 23/100\n",
      "12958/12958 [==============================] - 301s 23ms/step - loss: 1.5425e-05 - val_loss: 1.0043e-05\n",
      "Epoch 24/100\n",
      "12958/12958 [==============================] - 300s 23ms/step - loss: 1.3678e-05 - val_loss: 8.8093e-07\n",
      "Epoch 25/100\n",
      "12958/12958 [==============================] - 301s 23ms/step - loss: 1.6489e-05 - val_loss: 8.5929e-06\n",
      "Epoch 26/100\n",
      "12958/12958 [==============================] - 300s 23ms/step - loss: 1.4626e-05 - val_loss: 1.7994e-05\n",
      "Epoch 27/100\n",
      "12958/12958 [==============================] - 299s 23ms/step - loss: 1.3676e-05 - val_loss: 5.1004e-05\n",
      "Epoch 28/100\n",
      "12958/12958 [==============================] - 300s 23ms/step - loss: 1.4652e-05 - val_loss: 1.6453e-06\n",
      "Epoch 29/100\n",
      "12958/12958 [==============================] - 300s 23ms/step - loss: 1.3733e-05 - val_loss: 2.6546e-06\n",
      "Epoch 30/100\n",
      "12958/12958 [==============================] - 300s 23ms/step - loss: 1.1783e-05 - val_loss: 5.7278e-07\n",
      "Epoch 31/100\n",
      "12958/12958 [==============================] - 300s 23ms/step - loss: 1.2515e-05 - val_loss: 1.5153e-06\n",
      "Epoch 32/100\n",
      "12958/12958 [==============================] - 299s 23ms/step - loss: 1.1303e-05 - val_loss: 8.2575e-06\n",
      "Epoch 33/100\n",
      "12958/12958 [==============================] - 299s 23ms/step - loss: 1.1873e-05 - val_loss: 1.9670e-06\n",
      "Epoch 34/100\n",
      "12958/12958 [==============================] - 299s 23ms/step - loss: 1.1645e-05 - val_loss: 1.8250e-06\n",
      "Epoch 35/100\n",
      "12958/12958 [==============================] - 299s 23ms/step - loss: 1.0719e-05 - val_loss: 2.8471e-06\n",
      "Epoch 36/100\n",
      "12958/12958 [==============================] - 304s 23ms/step - loss: 1.1581e-05 - val_loss: 1.4815e-05\n",
      "Epoch 37/100\n",
      "12958/12958 [==============================] - 299s 23ms/step - loss: 1.1074e-05 - val_loss: 8.9764e-07\n",
      "Epoch 38/100\n",
      "12958/12958 [==============================] - 299s 23ms/step - loss: 9.7602e-06 - val_loss: 5.7585e-06\n",
      "Epoch 39/100\n",
      "12958/12958 [==============================] - 299s 23ms/step - loss: 1.9722e-05 - val_loss: 4.4525e-05\n",
      "Epoch 40/100\n",
      "12958/12958 [==============================] - 300s 23ms/step - loss: 9.6520e-06 - val_loss: 2.3986e-06\n",
      "Epoch 41/100\n",
      "12958/12958 [==============================] - 300s 23ms/step - loss: 9.5114e-06 - val_loss: 8.0430e-06\n",
      "Epoch 42/100\n",
      "12958/12958 [==============================] - 300s 23ms/step - loss: 9.1724e-06 - val_loss: 1.2037e-06\n",
      "Epoch 43/100\n",
      "12958/12958 [==============================] - 300s 23ms/step - loss: 9.5563e-06 - val_loss: 2.0461e-06\n",
      "Epoch 44/100\n",
      "12958/12958 [==============================] - 299s 23ms/step - loss: 1.1199e-05 - val_loss: 1.9398e-05\n",
      "Epoch 45/100\n",
      "12958/12958 [==============================] - 299s 23ms/step - loss: 8.4650e-06 - val_loss: 2.7742e-06\n",
      "Epoch 46/100\n",
      "12958/12958 [==============================] - 299s 23ms/step - loss: 9.2407e-06 - val_loss: 6.6766e-07\n",
      "Epoch 47/100\n",
      "12958/12958 [==============================] - 299s 23ms/step - loss: 8.0290e-06 - val_loss: 3.1375e-05\n",
      "Epoch 48/100\n",
      "12958/12958 [==============================] - 299s 23ms/step - loss: 8.4084e-06 - val_loss: 1.7519e-06\n",
      "Epoch 49/100\n",
      "12958/12958 [==============================] - 299s 23ms/step - loss: 3.5741e-05 - val_loss: 5.3508e-06\n",
      "Epoch 50/100\n",
      "12958/12958 [==============================] - 299s 23ms/step - loss: 8.6470e-06 - val_loss: 2.0147e-06\n",
      "Epoch 51/100\n",
      "12958/12958 [==============================] - 299s 23ms/step - loss: 7.8674e-06 - val_loss: 7.8169e-07\n",
      "Epoch 52/100\n",
      "12958/12958 [==============================] - 299s 23ms/step - loss: 8.2327e-06 - val_loss: 1.6550e-06\n",
      "Epoch 53/100\n",
      "12958/12958 [==============================] - 299s 23ms/step - loss: 8.7052e-06 - val_loss: 9.0601e-06\n",
      "Epoch 54/100\n",
      "12958/12958 [==============================] - 299s 23ms/step - loss: 8.7283e-06 - val_loss: 1.8946e-06\n",
      "Epoch 55/100\n",
      "12958/12958 [==============================] - 299s 23ms/step - loss: 7.6368e-06 - val_loss: 4.7912e-07\n",
      "Epoch 56/100\n",
      "12958/12958 [==============================] - 300s 23ms/step - loss: 7.5476e-06 - val_loss: 7.7271e-06\n",
      "Epoch 57/100\n",
      "12958/12958 [==============================] - 299s 23ms/step - loss: 8.1710e-06 - val_loss: 6.8781e-06\n",
      "Epoch 58/100\n",
      "12958/12958 [==============================] - 299s 23ms/step - loss: 6.7071e-06 - val_loss: 5.3823e-06\n",
      "Epoch 59/100\n",
      "12958/12958 [==============================] - 299s 23ms/step - loss: 7.1222e-06 - val_loss: 6.2175e-06\n",
      "Epoch 60/100\n",
      "12958/12958 [==============================] - 299s 23ms/step - loss: 6.9463e-06 - val_loss: 5.0863e-07\n",
      "Epoch 61/100\n",
      "12958/12958 [==============================] - 299s 23ms/step - loss: 6.8693e-06 - val_loss: 1.6135e-06\n",
      "Epoch 62/100\n",
      "12958/12958 [==============================] - 299s 23ms/step - loss: 7.6346e-06 - val_loss: 6.0347e-07\n",
      "Epoch 63/100\n",
      "12958/12958 [==============================] - 299s 23ms/step - loss: 6.9205e-06 - val_loss: 9.5963e-07\n",
      "Epoch 64/100\n",
      "12958/12958 [==============================] - 299s 23ms/step - loss: 7.1410e-06 - val_loss: 7.6379e-07\n",
      "Epoch 65/100\n",
      "12958/12958 [==============================] - 299s 23ms/step - loss: 6.3082e-06 - val_loss: 8.3769e-07\n",
      "Epoch 66/100\n",
      "12958/12958 [==============================] - 299s 23ms/step - loss: 6.2448e-06 - val_loss: 4.6902e-07\n",
      "Epoch 67/100\n",
      "12958/12958 [==============================] - 299s 23ms/step - loss: 9.1936e-06 - val_loss: 3.8440e-07\n",
      "Epoch 68/100\n",
      "12958/12958 [==============================] - 300s 23ms/step - loss: 6.2198e-06 - val_loss: 4.6740e-07\n",
      "Epoch 69/100\n",
      "12958/12958 [==============================] - 299s 23ms/step - loss: 5.9278e-06 - val_loss: 9.9138e-06\n",
      "Epoch 70/100\n",
      "12958/12958 [==============================] - 299s 23ms/step - loss: 7.7082e-06 - val_loss: 3.5645e-06\n",
      "Epoch 71/100\n",
      "12958/12958 [==============================] - 299s 23ms/step - loss: 6.6390e-06 - val_loss: 3.5000e-07\n",
      "Epoch 72/100\n",
      "12958/12958 [==============================] - 299s 23ms/step - loss: 6.0315e-06 - val_loss: 9.9890e-07\n",
      "Epoch 73/100\n",
      "12958/12958 [==============================] - 298s 23ms/step - loss: 7.3826e-06 - val_loss: 4.2789e-06\n",
      "Epoch 74/100\n",
      "12958/12958 [==============================] - 298s 23ms/step - loss: 5.5191e-06 - val_loss: 2.8496e-07\n",
      "Epoch 75/100\n",
      "12958/12958 [==============================] - 299s 23ms/step - loss: 5.9052e-06 - val_loss: 3.9318e-06\n",
      "Epoch 76/100\n",
      "12958/12958 [==============================] - 298s 23ms/step - loss: 5.6460e-06 - val_loss: 1.1307e-05\n",
      "Epoch 77/100\n",
      "12958/12958 [==============================] - 298s 23ms/step - loss: 6.7456e-06 - val_loss: 1.0153e-06\n",
      "Epoch 78/100\n",
      "12958/12958 [==============================] - 298s 23ms/step - loss: 5.3436e-06 - val_loss: 3.1850e-06\n",
      "Epoch 79/100\n",
      "12958/12958 [==============================] - 298s 23ms/step - loss: 6.2587e-06 - val_loss: 4.5624e-07\n",
      "Epoch 80/100\n",
      "12958/12958 [==============================] - 299s 23ms/step - loss: 5.8171e-06 - val_loss: 4.4824e-06\n",
      "Epoch 81/100\n",
      "12958/12958 [==============================] - 299s 23ms/step - loss: 8.7162e-06 - val_loss: 5.0103e-07\n",
      "Epoch 82/100\n",
      "12958/12958 [==============================] - 299s 23ms/step - loss: 5.8327e-06 - val_loss: 3.5371e-05\n",
      "Epoch 83/100\n",
      "12958/12958 [==============================] - 298s 23ms/step - loss: 5.5817e-06 - val_loss: 5.3356e-07\n",
      "Epoch 84/100\n",
      "12958/12958 [==============================] - 299s 23ms/step - loss: 8.7116e-06 - val_loss: 4.3286e-07\n",
      "Epoch 85/100\n",
      "12958/12958 [==============================] - 299s 23ms/step - loss: 5.3903e-06 - val_loss: 1.7620e-05\n",
      "Epoch 86/100\n",
      "12958/12958 [==============================] - 299s 23ms/step - loss: 6.8299e-06 - val_loss: 1.5616e-06\n",
      "Epoch 87/100\n",
      "12958/12958 [==============================] - 299s 23ms/step - loss: 1.1280e-05 - val_loss: 8.6143e-06\n",
      "Epoch 88/100\n",
      "12958/12958 [==============================] - 298s 23ms/step - loss: 8.5602e-06 - val_loss: 5.2735e-06\n",
      "Epoch 89/100\n",
      "12958/12958 [==============================] - 298s 23ms/step - loss: 5.4186e-06 - val_loss: 6.5518e-07\n",
      "Epoch 90/100\n",
      "12958/12958 [==============================] - 298s 23ms/step - loss: 4.6707e-06 - val_loss: 6.9420e-06\n",
      "Epoch 91/100\n",
      "12958/12958 [==============================] - 298s 23ms/step - loss: 6.5837e-06 - val_loss: 1.2254e-06\n",
      "Epoch 92/100\n",
      "12958/12958 [==============================] - 298s 23ms/step - loss: 5.3681e-06 - val_loss: 4.2690e-07\n",
      "Epoch 93/100\n",
      "12958/12958 [==============================] - 298s 23ms/step - loss: 4.6242e-06 - val_loss: 6.1593e-07\n",
      "Epoch 94/100\n",
      "12958/12958 [==============================] - 299s 23ms/step - loss: 5.5749e-06 - val_loss: 1.7827e-06\n",
      "Epoch 95/100\n",
      "12958/12958 [==============================] - 299s 23ms/step - loss: 5.1245e-06 - val_loss: 1.1319e-06\n",
      "Epoch 96/100\n",
      "12958/12958 [==============================] - 299s 23ms/step - loss: 4.6136e-06 - val_loss: 6.8219e-07\n",
      "Epoch 97/100\n",
      "12958/12958 [==============================] - 299s 23ms/step - loss: 6.1684e-06 - val_loss: 6.2956e-06\n",
      "Epoch 98/100\n",
      "12958/12958 [==============================] - 299s 23ms/step - loss: 4.9231e-06 - val_loss: 6.5518e-07\n",
      "Epoch 99/100\n",
      "12958/12958 [==============================] - 299s 23ms/step - loss: 5.4722e-06 - val_loss: 6.4111e-06\n",
      "Epoch 100/100\n",
      "12958/12958 [==============================] - 301s 23ms/step - loss: 4.7130e-06 - val_loss: 1.0654e-06\n"
     ]
    }
   ],
   "source": [
    "history = model.fit(X, y, epochs = 100, batch_size=32, validation_split=0.2)"
   ]
  },
  {
   "cell_type": "code",
   "execution_count": 82,
   "metadata": {},
   "outputs": [
    {
     "name": "stdout",
     "output_type": "stream",
     "text": [
      "INFO:tensorflow:Assets written to: models/ethnicity_county\\assets\n"
     ]
    }
   ],
   "source": [
    "# model.save('models/ethnicity_county', save_format='tf')\n"
   ]
  },
  {
   "cell_type": "code",
   "execution_count": null,
   "metadata": {},
   "outputs": [],
   "source": []
  },
  {
   "cell_type": "code",
   "execution_count": null,
   "metadata": {},
   "outputs": [],
   "source": []
  },
  {
   "cell_type": "code",
   "execution_count": null,
   "metadata": {},
   "outputs": [],
   "source": []
  },
  {
   "cell_type": "code",
   "execution_count": null,
   "metadata": {},
   "outputs": [],
   "source": []
  },
  {
   "cell_type": "code",
   "execution_count": null,
   "metadata": {},
   "outputs": [],
   "source": []
  }
 ],
 "metadata": {
  "kernelspec": {
   "display_name": "tensorflowgpu",
   "language": "python",
   "name": "python3"
  },
  "language_info": {
   "codemirror_mode": {
    "name": "ipython",
    "version": 3
   },
   "file_extension": ".py",
   "mimetype": "text/x-python",
   "name": "python",
   "nbconvert_exporter": "python",
   "pygments_lexer": "ipython3",
   "version": "3.10.14"
  }
 },
 "nbformat": 4,
 "nbformat_minor": 2
}
