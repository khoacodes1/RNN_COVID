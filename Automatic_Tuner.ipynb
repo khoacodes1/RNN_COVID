{
 "cells": [
  {
   "cell_type": "code",
   "execution_count": 67,
   "metadata": {},
   "outputs": [],
   "source": [
    "#pip install -q -U keras-tuner"
   ]
  },
  {
   "cell_type": "code",
   "execution_count": 68,
   "metadata": {},
   "outputs": [],
   "source": [
    "import pandas as pd\n",
    "import matplotlib.pyplot as plt\n",
    "import numpy as np\n",
    "import random "
   ]
  },
  {
   "cell_type": "code",
   "execution_count": 69,
   "metadata": {},
   "outputs": [],
   "source": [
    "import tensorflow as tf\n",
    "from tensorflow.keras.models import Sequential, load_model\n",
    "from tensorflow.keras.layers import LSTM, Dense, Dropout\n",
    "from tensorflow.keras.callbacks import EarlyStopping\n",
    "from tensorflow.keras.optimizers import Adam\n",
    "from tensorflow.keras.regularizers import l2\n",
    "from sklearn.metrics import mean_squared_error, r2_score\n",
    "import keras_tuner as kt"
   ]
  },
  {
   "cell_type": "code",
   "execution_count": 70,
   "metadata": {},
   "outputs": [],
   "source": [
    "tf.random.set_seed(100)"
   ]
  },
  {
   "cell_type": "code",
   "execution_count": 71,
   "metadata": {},
   "outputs": [
    {
     "name": "stderr",
     "output_type": "stream",
     "text": [
      "<>:1: SyntaxWarning: invalid escape sequence '\\c'\n",
      "<>:1: SyntaxWarning: invalid escape sequence '\\c'\n",
      "C:\\Users\\dangn\\AppData\\Local\\Temp\\ipykernel_7324\\2108600221.py:1: SyntaxWarning: invalid escape sequence '\\c'\n",
      "  df = pd.read_csv(\"datasets\\covid19postvaxstatewidestats.csv\")\n"
     ]
    }
   ],
   "source": [
    "df = pd.read_csv(\"datasets\\covid19postvaxstatewidestats.csv\")\n",
    "\n",
    "df = df[df['unvaccinated_cases_per_100k'].notna()]\n",
    "\n",
    "df = df.reset_index(drop=True)"
   ]
  },
  {
   "cell_type": "code",
   "execution_count": 72,
   "metadata": {},
   "outputs": [
    {
     "data": {
      "text/html": [
       "<div>\n",
       "<style scoped>\n",
       "    .dataframe tbody tr th:only-of-type {\n",
       "        vertical-align: middle;\n",
       "    }\n",
       "\n",
       "    .dataframe tbody tr th {\n",
       "        vertical-align: top;\n",
       "    }\n",
       "\n",
       "    .dataframe thead th {\n",
       "        text-align: right;\n",
       "    }\n",
       "</style>\n",
       "<table border=\"1\" class=\"dataframe\">\n",
       "  <thead>\n",
       "    <tr style=\"text-align: right;\">\n",
       "      <th></th>\n",
       "      <th>unvaccinated_cases_per_100k</th>\n",
       "      <th>unvaccinated_hosp_per_100k</th>\n",
       "      <th>unvaccinated_deaths_per_100k</th>\n",
       "    </tr>\n",
       "  </thead>\n",
       "  <tbody>\n",
       "    <tr>\n",
       "      <th>0</th>\n",
       "      <td>27.251295</td>\n",
       "      <td>1.483401</td>\n",
       "      <td>0.067702</td>\n",
       "    </tr>\n",
       "    <tr>\n",
       "      <th>1</th>\n",
       "      <td>25.072362</td>\n",
       "      <td>1.360519</td>\n",
       "      <td>0.078033</td>\n",
       "    </tr>\n",
       "    <tr>\n",
       "      <th>2</th>\n",
       "      <td>23.268146</td>\n",
       "      <td>1.296892</td>\n",
       "      <td>0.087677</td>\n",
       "    </tr>\n",
       "    <tr>\n",
       "      <th>3</th>\n",
       "      <td>21.766329</td>\n",
       "      <td>1.236441</td>\n",
       "      <td>0.099877</td>\n",
       "    </tr>\n",
       "    <tr>\n",
       "      <th>4</th>\n",
       "      <td>20.467271</td>\n",
       "      <td>1.179528</td>\n",
       "      <td>0.112219</td>\n",
       "    </tr>\n",
       "    <tr>\n",
       "      <th>...</th>\n",
       "      <td>...</td>\n",
       "      <td>...</td>\n",
       "      <td>...</td>\n",
       "    </tr>\n",
       "    <tr>\n",
       "      <th>778</th>\n",
       "      <td>8.425650</td>\n",
       "      <td>0.613146</td>\n",
       "      <td>0.051096</td>\n",
       "    </tr>\n",
       "    <tr>\n",
       "      <th>779</th>\n",
       "      <td>8.210084</td>\n",
       "      <td>0.564715</td>\n",
       "      <td>0.048550</td>\n",
       "    </tr>\n",
       "    <tr>\n",
       "      <th>780</th>\n",
       "      <td>8.268116</td>\n",
       "      <td>0.552060</td>\n",
       "      <td>0.048561</td>\n",
       "    </tr>\n",
       "    <tr>\n",
       "      <th>781</th>\n",
       "      <td>8.157356</td>\n",
       "      <td>0.570069</td>\n",
       "      <td>0.061353</td>\n",
       "    </tr>\n",
       "    <tr>\n",
       "      <th>782</th>\n",
       "      <td>8.008367</td>\n",
       "      <td>0.580428</td>\n",
       "      <td>0.056253</td>\n",
       "    </tr>\n",
       "  </tbody>\n",
       "</table>\n",
       "<p>783 rows × 3 columns</p>\n",
       "</div>"
      ],
      "text/plain": [
       "     unvaccinated_cases_per_100k  unvaccinated_hosp_per_100k  \\\n",
       "0                      27.251295                    1.483401   \n",
       "1                      25.072362                    1.360519   \n",
       "2                      23.268146                    1.296892   \n",
       "3                      21.766329                    1.236441   \n",
       "4                      20.467271                    1.179528   \n",
       "..                           ...                         ...   \n",
       "778                     8.425650                    0.613146   \n",
       "779                     8.210084                    0.564715   \n",
       "780                     8.268116                    0.552060   \n",
       "781                     8.157356                    0.570069   \n",
       "782                     8.008367                    0.580428   \n",
       "\n",
       "     unvaccinated_deaths_per_100k  \n",
       "0                        0.067702  \n",
       "1                        0.078033  \n",
       "2                        0.087677  \n",
       "3                        0.099877  \n",
       "4                        0.112219  \n",
       "..                            ...  \n",
       "778                      0.051096  \n",
       "779                      0.048550  \n",
       "780                      0.048561  \n",
       "781                      0.061353  \n",
       "782                      0.056253  \n",
       "\n",
       "[783 rows x 3 columns]"
      ]
     },
     "execution_count": 72,
     "metadata": {},
     "output_type": "execute_result"
    }
   ],
   "source": [
    "df_unvac = df[['unvaccinated_cases_per_100k', 'unvaccinated_hosp_per_100k', 'unvaccinated_deaths_per_100k']]\n",
    "\n",
    "df_unvac"
   ]
  },
  {
   "cell_type": "code",
   "execution_count": 73,
   "metadata": {},
   "outputs": [],
   "source": [
    "def sequence_data(data, time_step):\n",
    "    X, y = [], []\n",
    "    for i in range(len(data) - time_step - 1):\n",
    "        X.append(data[i:(i + time_step), :])\n",
    "        y.append(data[i+time_step,:])\n",
    "    return np.array(X), np.array(y)"
   ]
  },
  {
   "cell_type": "code",
   "execution_count": 74,
   "metadata": {},
   "outputs": [],
   "source": [
    "train_data = df_unvac.values"
   ]
  },
  {
   "cell_type": "code",
   "execution_count": 75,
   "metadata": {},
   "outputs": [],
   "source": [
    "X_train, y_train = sequence_data(train_data, 10)\n",
    "X_train = X_train.reshape(X_train.shape[0], X_train.shape[1], X_train.shape[2])"
   ]
  },
  {
   "cell_type": "code",
   "execution_count": 76,
   "metadata": {},
   "outputs": [
    {
     "data": {
      "text/plain": [
       "(772, 10, 3)"
      ]
     },
     "execution_count": 76,
     "metadata": {},
     "output_type": "execute_result"
    }
   ],
   "source": [
    "X_train.shape"
   ]
  },
  {
   "cell_type": "code",
   "execution_count": 77,
   "metadata": {},
   "outputs": [
    {
     "data": {
      "text/plain": [
       "(772, 3)"
      ]
     },
     "execution_count": 77,
     "metadata": {},
     "output_type": "execute_result"
    }
   ],
   "source": [
    "y_train.shape"
   ]
  },
  {
   "cell_type": "code",
   "execution_count": 78,
   "metadata": {},
   "outputs": [],
   "source": [
    "def model_builder(hp):\n",
    "    model = Sequential()\n",
    "    hp_activation = hp.Choice('activation', values=['relu', 'tanh'])\n",
    "    hp_layer_1 = hp.Int('layer_1', min_value=32, max_value=512, step=32)\n",
    "\n",
    "    hp_layer_2 = hp.Int('layer_2', min_value=32, max_value=512, step=32)\n",
    "\n",
    "    hp_learning_rate = hp.Choice('learning_rate', values=[1e-2, 1e-3, 1e-4])\n",
    "\n",
    "    model.add(LSTM(units = hp_layer_1, activation=hp_activation, input_shape = (10,3)))\n",
    "\n",
    "    model.add(Dense(units = hp_layer_2, activation = hp_activation))\n",
    "\n",
    "    model.add(Dense(units=3, activation=hp_activation))\n",
    "\n",
    "\n",
    "    model.compile(optimizer = Adam(learning_rate=hp_learning_rate), loss='mse', metrics=['mae'])\n",
    "\n",
    "    return model"
   ]
  },
  {
   "cell_type": "code",
   "execution_count": 79,
   "metadata": {},
   "outputs": [
    {
     "name": "stderr",
     "output_type": "stream",
     "text": [
      "C:\\Users\\dangn\\AppData\\Local\\Packages\\PythonSoftwareFoundation.Python.3.12_qbz5n2kfra8p0\\LocalCache\\local-packages\\Python312\\site-packages\\keras\\src\\layers\\rnn\\rnn.py:204: UserWarning: Do not pass an `input_shape`/`input_dim` argument to a layer. When using Sequential models, prefer using an `Input(shape)` object as the first layer in the model instead.\n",
      "  super().__init__(**kwargs)\n"
     ]
    }
   ],
   "source": [
    "tuner = kt.Hyperband(model_builder, \n",
    "                     objective='val_mae',\n",
    "                     max_epochs=10,\n",
    "                     factor = 3,\n",
    "                     directory = 'dir',\n",
    "                     project_name = 'one')"
   ]
  },
  {
   "cell_type": "code",
   "execution_count": 80,
   "metadata": {},
   "outputs": [],
   "source": [
    "stop_early = EarlyStopping(monitor = 'val_mae', patience = 3)"
   ]
  },
  {
   "cell_type": "code",
   "execution_count": 81,
   "metadata": {},
   "outputs": [
    {
     "name": "stdout",
     "output_type": "stream",
     "text": [
      "Trial 30 Complete [00h 00m 03s]\n",
      "val_mae: 1.2989795207977295\n",
      "\n",
      "Best val_mae So Far: 0.6418715715408325\n",
      "Total elapsed time: 00h 01m 30s\n"
     ]
    }
   ],
   "source": [
    "tuner.search(X_train, y_train, epochs=50, validation_split=0.2, callbacks=[stop_early])"
   ]
  },
  {
   "cell_type": "code",
   "execution_count": 82,
   "metadata": {},
   "outputs": [],
   "source": [
    "best_hp = tuner.get_best_hyperparameters(num_trials=1)[0]"
   ]
  },
  {
   "cell_type": "code",
   "execution_count": 83,
   "metadata": {},
   "outputs": [
    {
     "name": "stdout",
     "output_type": "stream",
     "text": [
      "The best hyperparameters are:\n",
      "activation: relu\n",
      "layer_1: 448\n",
      "layer_2: 288\n",
      "learning_rate: 0.0001\n",
      "tuner/epochs: 10\n",
      "tuner/initial_epoch: 4\n",
      "tuner/bracket: 2\n",
      "tuner/round: 2\n",
      "tuner/trial_id: 0014\n"
     ]
    }
   ],
   "source": [
    "print(\"The best hyperparameters are:\")\n",
    "for key, value in best_hp.values.items():\n",
    "    print(f\"{key}: {value}\")"
   ]
  },
  {
   "cell_type": "code",
   "execution_count": 84,
   "metadata": {},
   "outputs": [],
   "source": [
    "model = tuner.hypermodel.build(best_hp)"
   ]
  },
  {
   "cell_type": "code",
   "execution_count": 85,
   "metadata": {},
   "outputs": [
    {
     "name": "stdout",
     "output_type": "stream",
     "text": [
      "Epoch 1/50\n",
      "\u001b[1m20/20\u001b[0m \u001b[32m━━━━━━━━━━━━━━━━━━━━\u001b[0m\u001b[37m\u001b[0m \u001b[1m1s\u001b[0m 15ms/step - loss: 4674.0498 - mae: 20.2616 - val_loss: 221.1450 - val_mae: 7.8075\n",
      "Epoch 2/50\n",
      "\u001b[1m20/20\u001b[0m \u001b[32m━━━━━━━━━━━━━━━━━━━━\u001b[0m\u001b[37m\u001b[0m \u001b[1m0s\u001b[0m 9ms/step - loss: 4667.4604 - mae: 19.9560 - val_loss: 221.1325 - val_mae: 7.7748\n",
      "Epoch 3/50\n",
      "\u001b[1m20/20\u001b[0m \u001b[32m━━━━━━━━━━━━━━━━━━━━\u001b[0m\u001b[37m\u001b[0m \u001b[1m0s\u001b[0m 9ms/step - loss: 4667.6182 - mae: 19.9582 - val_loss: 221.1269 - val_mae: 7.7635\n",
      "Epoch 4/50\n",
      "\u001b[1m20/20\u001b[0m \u001b[32m━━━━━━━━━━━━━━━━━━━━\u001b[0m\u001b[37m\u001b[0m \u001b[1m0s\u001b[0m 8ms/step - loss: 4667.1533 - mae: 19.9008 - val_loss: 221.1254 - val_mae: 7.7556\n",
      "Epoch 5/50\n",
      "\u001b[1m20/20\u001b[0m \u001b[32m━━━━━━━━━━━━━━━━━━━━\u001b[0m\u001b[37m\u001b[0m \u001b[1m0s\u001b[0m 8ms/step - loss: 4666.9360 - mae: 19.8532 - val_loss: 221.1319 - val_mae: 7.7726\n",
      "Epoch 6/50\n",
      "\u001b[1m20/20\u001b[0m \u001b[32m━━━━━━━━━━━━━━━━━━━━\u001b[0m\u001b[37m\u001b[0m \u001b[1m0s\u001b[0m 8ms/step - loss: 4667.0269 - mae: 19.8716 - val_loss: 221.1210 - val_mae: 7.7455\n",
      "Epoch 7/50\n",
      "\u001b[1m20/20\u001b[0m \u001b[32m━━━━━━━━━━━━━━━━━━━━\u001b[0m\u001b[37m\u001b[0m \u001b[1m0s\u001b[0m 8ms/step - loss: 4667.2622 - mae: 19.8616 - val_loss: 221.1216 - val_mae: 7.7493\n",
      "Epoch 8/50\n",
      "\u001b[1m20/20\u001b[0m \u001b[32m━━━━━━━━━━━━━━━━━━━━\u001b[0m\u001b[37m\u001b[0m \u001b[1m0s\u001b[0m 8ms/step - loss: 4666.9551 - mae: 19.8392 - val_loss: 221.1312 - val_mae: 7.7674\n",
      "Epoch 9/50\n",
      "\u001b[1m20/20\u001b[0m \u001b[32m━━━━━━━━━━━━━━━━━━━━\u001b[0m\u001b[37m\u001b[0m \u001b[1m0s\u001b[0m 9ms/step - loss: 4667.2266 - mae: 19.8673 - val_loss: 221.1369 - val_mae: 7.7825\n"
     ]
    }
   ],
   "source": [
    "history = model.fit(X_train, y_train, epochs = 50, validation_split = 0.2, callbacks = [stop_early])"
   ]
  },
  {
   "cell_type": "code",
   "execution_count": 86,
   "metadata": {},
   "outputs": [
    {
     "data": {
      "text/html": [
       "<div>\n",
       "<style scoped>\n",
       "    .dataframe tbody tr th:only-of-type {\n",
       "        vertical-align: middle;\n",
       "    }\n",
       "\n",
       "    .dataframe tbody tr th {\n",
       "        vertical-align: top;\n",
       "    }\n",
       "\n",
       "    .dataframe thead th {\n",
       "        text-align: right;\n",
       "    }\n",
       "</style>\n",
       "<table border=\"1\" class=\"dataframe\">\n",
       "  <thead>\n",
       "    <tr style=\"text-align: right;\">\n",
       "      <th></th>\n",
       "      <th>loss</th>\n",
       "      <th>mae</th>\n",
       "      <th>val_loss</th>\n",
       "      <th>val_mae</th>\n",
       "    </tr>\n",
       "  </thead>\n",
       "  <tbody>\n",
       "    <tr>\n",
       "      <th>0</th>\n",
       "      <td>4496.041016</td>\n",
       "      <td>19.955139</td>\n",
       "      <td>221.145004</td>\n",
       "      <td>7.807496</td>\n",
       "    </tr>\n",
       "    <tr>\n",
       "      <th>1</th>\n",
       "      <td>4493.800781</td>\n",
       "      <td>19.799435</td>\n",
       "      <td>221.132507</td>\n",
       "      <td>7.774765</td>\n",
       "    </tr>\n",
       "    <tr>\n",
       "      <th>2</th>\n",
       "      <td>4494.010742</td>\n",
       "      <td>19.810051</td>\n",
       "      <td>221.126923</td>\n",
       "      <td>7.763500</td>\n",
       "    </tr>\n",
       "    <tr>\n",
       "      <th>3</th>\n",
       "      <td>4493.457520</td>\n",
       "      <td>19.741285</td>\n",
       "      <td>221.125397</td>\n",
       "      <td>7.755567</td>\n",
       "    </tr>\n",
       "    <tr>\n",
       "      <th>4</th>\n",
       "      <td>4493.357422</td>\n",
       "      <td>19.709314</td>\n",
       "      <td>221.131912</td>\n",
       "      <td>7.772570</td>\n",
       "    </tr>\n",
       "    <tr>\n",
       "      <th>5</th>\n",
       "      <td>4493.368652</td>\n",
       "      <td>19.713688</td>\n",
       "      <td>221.120987</td>\n",
       "      <td>7.745506</td>\n",
       "    </tr>\n",
       "    <tr>\n",
       "      <th>6</th>\n",
       "      <td>4493.550293</td>\n",
       "      <td>19.711470</td>\n",
       "      <td>221.121643</td>\n",
       "      <td>7.749313</td>\n",
       "    </tr>\n",
       "    <tr>\n",
       "      <th>7</th>\n",
       "      <td>4493.365723</td>\n",
       "      <td>19.693708</td>\n",
       "      <td>221.131195</td>\n",
       "      <td>7.767393</td>\n",
       "    </tr>\n",
       "    <tr>\n",
       "      <th>8</th>\n",
       "      <td>4493.582031</td>\n",
       "      <td>19.711222</td>\n",
       "      <td>221.136917</td>\n",
       "      <td>7.782497</td>\n",
       "    </tr>\n",
       "  </tbody>\n",
       "</table>\n",
       "</div>"
      ],
      "text/plain": [
       "          loss        mae    val_loss   val_mae\n",
       "0  4496.041016  19.955139  221.145004  7.807496\n",
       "1  4493.800781  19.799435  221.132507  7.774765\n",
       "2  4494.010742  19.810051  221.126923  7.763500\n",
       "3  4493.457520  19.741285  221.125397  7.755567\n",
       "4  4493.357422  19.709314  221.131912  7.772570\n",
       "5  4493.368652  19.713688  221.120987  7.745506\n",
       "6  4493.550293  19.711470  221.121643  7.749313\n",
       "7  4493.365723  19.693708  221.131195  7.767393\n",
       "8  4493.582031  19.711222  221.136917  7.782497"
      ]
     },
     "execution_count": 86,
     "metadata": {},
     "output_type": "execute_result"
    }
   ],
   "source": [
    "pd.DataFrame(history.history)"
   ]
  },
  {
   "cell_type": "code",
   "execution_count": 87,
   "metadata": {},
   "outputs": [],
   "source": [
    "def model_builder(hp):\n",
    "    model = Sequential()\n",
    "    hp_activation = hp.Choice('activation', values=['relu', 'tanh'])\n",
    "    hp_layer_1 = hp.Int('layer_1', min_value=32, max_value=512, step=32)\n",
    "\n",
    "    hp_layer_2 = hp.Int('layer_2', min_value=32, max_value=512, step=32)\n",
    "\n",
    "    hp_layer_3 = hp.Int('layer_3', min_value=32, max_value=512, step=32)\n",
    "\n",
    "    hp_learning_rate = hp.Choice('learning_rate', values=[1e-2, 1e-3, 1e-4])\n",
    "\n",
    "    model.add(LSTM(units = hp_layer_1, activation=hp_activation, input_shape = (10,3)))\n",
    "\n",
    "    model.add(Dense(units = hp_layer_2, activation = hp_activation))\n",
    "\n",
    "    model.add(Dense(units = hp_layer_3, activation = hp_activation))\n",
    "    \n",
    "    model.add(Dense(units=3, activation=hp_activation))\n",
    "\n",
    "\n",
    "    model.compile(optimizer = Adam(learning_rate=hp_learning_rate), loss='mse', metrics=['mae'])\n",
    "\n",
    "    return model"
   ]
  },
  {
   "cell_type": "code",
   "execution_count": 88,
   "metadata": {},
   "outputs": [
    {
     "name": "stderr",
     "output_type": "stream",
     "text": [
      "C:\\Users\\dangn\\AppData\\Local\\Packages\\PythonSoftwareFoundation.Python.3.12_qbz5n2kfra8p0\\LocalCache\\local-packages\\Python312\\site-packages\\keras\\src\\layers\\rnn\\rnn.py:204: UserWarning: Do not pass an `input_shape`/`input_dim` argument to a layer. When using Sequential models, prefer using an `Input(shape)` object as the first layer in the model instead.\n",
      "  super().__init__(**kwargs)\n"
     ]
    }
   ],
   "source": [
    "tuner = kt.Hyperband(model_builder, \n",
    "                     objective='val_mae',\n",
    "                     max_epochs=10,\n",
    "                     factor = 3,\n",
    "                     directory = 'dir',\n",
    "                     project_name = 'second')"
   ]
  },
  {
   "cell_type": "code",
   "execution_count": 89,
   "metadata": {},
   "outputs": [
    {
     "name": "stdout",
     "output_type": "stream",
     "text": [
      "Trial 30 Complete [00h 00m 05s]\n",
      "val_mae: 0.9176017642021179\n",
      "\n",
      "Best val_mae So Far: 0.49750617146492004\n",
      "Total elapsed time: 00h 01m 47s\n"
     ]
    }
   ],
   "source": [
    "tuner.search(X_train, y_train, epochs=50, validation_split=0.2, callbacks=[stop_early])"
   ]
  },
  {
   "cell_type": "code",
   "execution_count": 90,
   "metadata": {},
   "outputs": [],
   "source": [
    "best_hp = tuner.get_best_hyperparameters(num_trials=1)[0]"
   ]
  },
  {
   "cell_type": "code",
   "execution_count": 91,
   "metadata": {},
   "outputs": [
    {
     "name": "stdout",
     "output_type": "stream",
     "text": [
      "The best hyperparameters are:\n",
      "activation: relu\n",
      "layer_1: 320\n",
      "layer_2: 448\n",
      "layer_3: 416\n",
      "learning_rate: 0.0001\n",
      "tuner/epochs: 10\n",
      "tuner/initial_epoch: 4\n",
      "tuner/bracket: 2\n",
      "tuner/round: 2\n",
      "tuner/trial_id: 0012\n"
     ]
    }
   ],
   "source": [
    "print(\"The best hyperparameters are:\")\n",
    "for key, value in best_hp.values.items():\n",
    "    print(f\"{key}: {value}\")"
   ]
  },
  {
   "cell_type": "code",
   "execution_count": null,
   "metadata": {},
   "outputs": [],
   "source": [
    "model_1 = tuner.hypermodel.build(best_hp)"
   ]
  }
 ],
 "metadata": {
  "kernelspec": {
   "display_name": "Python 3",
   "language": "python",
   "name": "python3"
  },
  "language_info": {
   "codemirror_mode": {
    "name": "ipython",
    "version": 3
   },
   "file_extension": ".py",
   "mimetype": "text/x-python",
   "name": "python",
   "nbconvert_exporter": "python",
   "pygments_lexer": "ipython3",
   "version": "3.12.5"
  }
 },
 "nbformat": 4,
 "nbformat_minor": 2
}
